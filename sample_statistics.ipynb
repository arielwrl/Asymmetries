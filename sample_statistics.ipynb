{
 "cells": [
  {
   "cell_type": "code",
   "execution_count": 2,
   "metadata": {},
   "outputs": [],
   "source": [
    "import numpy as np\n",
    "import matplotlib.pyplot as plt\n",
    "import pandas as pd\n",
    "import seaborn as sns\n",
    "\n",
    "sns.set_style('ticks')"
   ]
  },
  {
   "cell_type": "code",
   "execution_count": 14,
   "metadata": {},
   "outputs": [],
   "source": [
    "data_dir = 'C:/Users/ariel/Workspace/GASP/High-z/PSB Asymetries/Data/'\n",
    "\n",
    "sample = pd.read_table(data_dir + 'sample_v2.dat')"
   ]
  },
  {
   "cell_type": "code",
   "execution_count": 15,
   "metadata": {},
   "outputs": [
    {
     "data": {
      "text/html": [
       "<div>\n",
       "<style scoped>\n",
       "    .dataframe tbody tr th:only-of-type {\n",
       "        vertical-align: middle;\n",
       "    }\n",
       "\n",
       "    .dataframe tbody tr th {\n",
       "        vertical-align: top;\n",
       "    }\n",
       "\n",
       "    .dataframe thead th {\n",
       "        text-align: right;\n",
       "    }\n",
       "</style>\n",
       "<table border=\"1\" class=\"dataframe\">\n",
       "  <thead>\n",
       "    <tr style=\"text-align: right;\">\n",
       "      <th></th>\n",
       "      <th>ID           RA            DEC           z       Ha_in Memb gas_disk RPS_class Specclass</th>\n",
       "    </tr>\n",
       "  </thead>\n",
       "  <tbody>\n",
       "    <tr>\n",
       "      <th>0</th>\n",
       "      <td>A2744_01     00:14:19.754  -30:23:57.83  0.291...</td>\n",
       "    </tr>\n",
       "    <tr>\n",
       "      <th>1</th>\n",
       "      <td>A2744_02     00:14:20.175  -30:23:56.77  0.320...</td>\n",
       "    </tr>\n",
       "    <tr>\n",
       "      <th>2</th>\n",
       "      <td>A2744_03     00:14:24.941  -30:23:46.45  0.302...</td>\n",
       "    </tr>\n",
       "    <tr>\n",
       "      <th>3</th>\n",
       "      <td>A2744_04     00:14:21.4    -30:23:02.06  0.294...</td>\n",
       "    </tr>\n",
       "    <tr>\n",
       "      <th>4</th>\n",
       "      <td>A2744_05     00:14:18.806  -30:23:13.48  0.307...</td>\n",
       "    </tr>\n",
       "    <tr>\n",
       "      <th>...</th>\n",
       "      <td>...</td>\n",
       "    </tr>\n",
       "    <tr>\n",
       "      <th>116</th>\n",
       "      <td>SMACS2131_03 21:31:06.0    -40:18:54.0   0.455...</td>\n",
       "    </tr>\n",
       "    <tr>\n",
       "      <th>117</th>\n",
       "      <td>SMACS2131_04 21:31:06.2    -40:18:48.8   0.435...</td>\n",
       "    </tr>\n",
       "    <tr>\n",
       "      <th>118</th>\n",
       "      <td>SMACS2131_05 21:31:03.0    -40:19:06.2   0.459...</td>\n",
       "    </tr>\n",
       "    <tr>\n",
       "      <th>119</th>\n",
       "      <td>SMACS2131_06 21:31:03.0    -40:19:00.8   0.444...</td>\n",
       "    </tr>\n",
       "    <tr>\n",
       "      <th>120</th>\n",
       "      <td>SMACS2131_07 21:31:06.32   -40:19:04.6   0.450...</td>\n",
       "    </tr>\n",
       "  </tbody>\n",
       "</table>\n",
       "<p>121 rows × 1 columns</p>\n",
       "</div>"
      ],
      "text/plain": [
       "    ID           RA            DEC           z       Ha_in Memb gas_disk RPS_class Specclass\n",
       "0    A2744_01     00:14:19.754  -30:23:57.83  0.291...                                      \n",
       "1    A2744_02     00:14:20.175  -30:23:56.77  0.320...                                      \n",
       "2    A2744_03     00:14:24.941  -30:23:46.45  0.302...                                      \n",
       "3    A2744_04     00:14:21.4    -30:23:02.06  0.294...                                      \n",
       "4    A2744_05     00:14:18.806  -30:23:13.48  0.307...                                      \n",
       "..                                                 ...                                      \n",
       "116  SMACS2131_03 21:31:06.0    -40:18:54.0   0.455...                                      \n",
       "117  SMACS2131_04 21:31:06.2    -40:18:48.8   0.435...                                      \n",
       "118  SMACS2131_05 21:31:03.0    -40:19:06.2   0.459...                                      \n",
       "119  SMACS2131_06 21:31:03.0    -40:19:00.8   0.444...                                      \n",
       "120  SMACS2131_07 21:31:06.32   -40:19:04.6   0.450...                                      \n",
       "\n",
       "[121 rows x 1 columns]"
      ]
     },
     "execution_count": 15,
     "metadata": {},
     "output_type": "execute_result"
    }
   ],
   "source": [
    "sample"
   ]
  }
 ],
 "metadata": {
  "kernelspec": {
   "display_name": "Python 3",
   "language": "python",
   "name": "python3"
  },
  "language_info": {
   "codemirror_mode": {
    "name": "ipython",
    "version": 3
   },
   "file_extension": ".py",
   "mimetype": "text/x-python",
   "name": "python",
   "nbconvert_exporter": "python",
   "pygments_lexer": "ipython3",
   "version": "3.11.6"
  }
 },
 "nbformat": 4,
 "nbformat_minor": 2
}
