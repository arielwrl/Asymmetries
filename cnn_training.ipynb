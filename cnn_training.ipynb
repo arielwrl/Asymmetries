{
 "cells": [
  {
   "cell_type": "code",
   "execution_count": 1,
   "metadata": {},
   "outputs": [
    {
     "name": "stdout",
     "output_type": "stream",
     "text": [
      "WARNING:tensorflow:From C:\\Users\\ariel\\AppData\\Local\\Packages\\PythonSoftwareFoundation.Python.3.11_qbz5n2kfra8p0\\LocalCache\\local-packages\\Python311\\site-packages\\keras\\src\\losses.py:2976: The name tf.losses.sparse_softmax_cross_entropy is deprecated. Please use tf.compat.v1.losses.sparse_softmax_cross_entropy instead.\n",
      "\n"
     ]
    }
   ],
   "source": [
    "import numpy as np\n",
    "import pandas as pd\n",
    "import pickle\n",
    "import seaborn as sns\n",
    "from toolbox.kubevizResults import kubevizResults as kv\n",
    "import matplotlib.pyplot as plt\n",
    "from tensorflow import keras\n",
    "from sklearn.model_selection import train_test_split\n",
    "from sklearn.preprocessing import StandardScaler\n",
    "\n",
    "sns.set_style('ticks')"
   ]
  },
  {
   "cell_type": "code",
   "execution_count": 3,
   "metadata": {},
   "outputs": [],
   "source": [
    "data_dir = 'C:/Users/ariel/Workspace/GASP/High-z/PSB Regions/Data/'\n",
    "highz_dir = 'C:/Users/ariel/Workspace/GASP/High-z/'\n",
    "plots_dir = 'C:/Users/ariel/Workspace/GASP/High-z/PSB regions/Plots/classification/'\n",
    "\n",
    "sample = pd.read_csv(data_dir + 'galaxy_sample.csv')\n",
    "properties_table = pd.read_csv(data_dir + 'sample_properties.csv')\n",
    "cnn_models = pickle.load(open(data_dir + 'cnn_models.pkl', 'rb'))\n",
    "\n",
    "wl = np.arange(3680, 6001, 3)"
   ]
  },
  {
   "cell_type": "code",
   "execution_count": 4,
   "metadata": {},
   "outputs": [],
   "source": [
    "categories = np.array(cnn_models['category'])\n",
    "spectra = np.array(cnn_models['spectra'])"
   ]
  },
  {
   "cell_type": "code",
   "execution_count": 5,
   "metadata": {},
   "outputs": [
    {
     "name": "stdout",
     "output_type": "stream",
     "text": [
      "[[0 1]\n",
      " [0 1]\n",
      " [0 1]\n",
      " ...\n",
      " [0 1]\n",
      " [0 1]\n",
      " [0 1]]\n"
     ]
    }
   ],
   "source": [
    "cnn_categories = np.array([[0, 1] if category=='Quenched' else [1, 0] for category in categories])\n",
    "print(cnn_categories)"
   ]
  },
  {
   "cell_type": "code",
   "execution_count": 6,
   "metadata": {},
   "outputs": [],
   "source": [
    "X_train, X_test, y_train, y_test = train_test_split(spectra, cnn_categories, test_size=0.3, shuffle=True)"
   ]
  },
  {
   "cell_type": "code",
   "execution_count": 7,
   "metadata": {},
   "outputs": [
    {
     "data": {
      "text/plain": [
       "(1857,)"
      ]
     },
     "execution_count": 7,
     "metadata": {},
     "output_type": "execute_result"
    }
   ],
   "source": [
    "X_train[0].shape"
   ]
  },
  {
   "cell_type": "code",
   "execution_count": 8,
   "metadata": {},
   "outputs": [
    {
     "data": {
      "text/plain": [
       "(3369, 1857)"
      ]
     },
     "execution_count": 8,
     "metadata": {},
     "output_type": "execute_result"
    }
   ],
   "source": [
    "X_train.shape"
   ]
  },
  {
   "cell_type": "code",
   "execution_count": 9,
   "metadata": {},
   "outputs": [
    {
     "name": "stdout",
     "output_type": "stream",
     "text": [
      "WARNING:tensorflow:From C:\\Users\\ariel\\AppData\\Local\\Packages\\PythonSoftwareFoundation.Python.3.11_qbz5n2kfra8p0\\LocalCache\\local-packages\\Python311\\site-packages\\keras\\src\\backend.py:873: The name tf.get_default_graph is deprecated. Please use tf.compat.v1.get_default_graph instead.\n",
      "\n",
      "WARNING:tensorflow:From C:\\Users\\ariel\\AppData\\Local\\Packages\\PythonSoftwareFoundation.Python.3.11_qbz5n2kfra8p0\\LocalCache\\local-packages\\Python311\\site-packages\\keras\\src\\backend.py:6642: The name tf.nn.max_pool is deprecated. Please use tf.nn.max_pool2d instead.\n",
      "\n",
      "WARNING:tensorflow:From C:\\Users\\ariel\\AppData\\Local\\Packages\\PythonSoftwareFoundation.Python.3.11_qbz5n2kfra8p0\\LocalCache\\local-packages\\Python311\\site-packages\\keras\\src\\optimizers\\__init__.py:309: The name tf.train.Optimizer is deprecated. Please use tf.compat.v1.train.Optimizer instead.\n",
      "\n",
      "Model: \"sequential\"\n",
      "_________________________________________________________________\n",
      " Layer (type)                Output Shape              Param #   \n",
      "=================================================================\n",
      " conv1d (Conv1D)             (None, 929, 32)           128       \n",
      "                                                                 \n",
      " conv1d_1 (Conv1D)           (None, 310, 16)           1552      \n",
      "                                                                 \n",
      " max_pooling1d (MaxPooling1  (None, 155, 16)           0         \n",
      " D)                                                              \n",
      "                                                                 \n",
      " flatten (Flatten)           (None, 2480)              0         \n",
      "                                                                 \n",
      " dropout (Dropout)           (None, 2480)              0         \n",
      "                                                                 \n",
      " dense (Dense)               (None, 64)                158784    \n",
      "                                                                 \n",
      " dropout_1 (Dropout)         (None, 64)                0         \n",
      "                                                                 \n",
      " dense_1 (Dense)             (None, 2)                 130       \n",
      "                                                                 \n",
      "=================================================================\n",
      "Total params: 160594 (627.32 KB)\n",
      "Trainable params: 160594 (627.32 KB)\n",
      "Non-trainable params: 0 (0.00 Byte)\n",
      "_________________________________________________________________\n"
     ]
    }
   ],
   "source": [
    "model_cnn = keras.models.Sequential([\n",
    "            keras.layers.Conv1D(32, kernel_size=3, padding=\"same\", strides=2, activation=\"relu\", input_shape=(1857, 1)),\n",
    "            keras.layers.Conv1D(16, kernel_size=3, padding=\"same\", strides=3, activation=\"relu\"),\n",
    "            keras.layers.MaxPool1D(),\n",
    "            keras.layers.Flatten(),\n",
    "            keras.layers.Dropout(0.25),\n",
    "            keras.layers.Dense(64, activation=\"relu\"),\n",
    "            keras.layers.Dropout(0.5),\n",
    "            keras.layers.Dense(2, activation=\"softmax\")\n",
    "])\n",
    "\n",
    "model_cnn.compile(loss=\"categorical_crossentropy\", optimizer=\"adam\", metrics=[\"accuracy\"])\n",
    "model_cnn.summary()"
   ]
  },
  {
   "cell_type": "code",
   "execution_count": 30,
   "metadata": {},
   "outputs": [
    {
     "name": "stdout",
     "output_type": "stream",
     "text": [
      "Model: \"sequential_8\"\n",
      "_________________________________________________________________\n",
      " Layer (type)                Output Shape              Param #   \n",
      "=================================================================\n",
      " dense_22 (Dense)            (None, 128)               237824    \n",
      "                                                                 \n",
      " dense_23 (Dense)            (None, 64)                8256      \n",
      "                                                                 \n",
      " dense_24 (Dense)            (None, 32)                2080      \n",
      "                                                                 \n",
      " dense_25 (Dense)            (None, 16)                528       \n",
      "                                                                 \n",
      " dense_26 (Dense)            (None, 2)                 34        \n",
      "                                                                 \n",
      "=================================================================\n",
      "Total params: 248722 (971.57 KB)\n",
      "Trainable params: 248722 (971.57 KB)\n",
      "Non-trainable params: 0 (0.00 Byte)\n",
      "_________________________________________________________________\n"
     ]
    }
   ],
   "source": [
    "model_ann = keras.models.Sequential([\n",
    "            keras.layers.Input(shape=(1857, )),\n",
    "            keras.layers.Dense(128, activation=\"relu\"),\n",
    "            keras.layers.Dense(64, activation=\"relu\"),\n",
    "            keras.layers.Dense(32, activation=\"relu\"),\n",
    "            keras.layers.Dense(16, activation=\"relu\"),\n",
    "            keras.layers.Dense(2, activation=\"softmax\")\n",
    "])\n",
    "\n",
    "model_ann.compile(loss=\"categorical_crossentropy\", optimizer=\"adam\", metrics=[\"accuracy\"])\n",
    "model_ann.summary()"
   ]
  },
  {
   "cell_type": "code",
   "execution_count": 65,
   "metadata": {},
   "outputs": [
    {
     "name": "stdout",
     "output_type": "stream",
     "text": [
      "Model: \"sequential_17\"\n",
      "_________________________________________________________________\n",
      " Layer (type)                Output Shape              Param #   \n",
      "=================================================================\n",
      " dense_43 (Dense)            (None, 300, 300, 100)     400       \n",
      "                                                                 \n",
      " dense_44 (Dense)            (None, 300, 300, 2)       202       \n",
      "                                                                 \n",
      "=================================================================\n",
      "Total params: 602 (2.35 KB)\n",
      "Trainable params: 602 (2.35 KB)\n",
      "Non-trainable params: 0 (0.00 Byte)\n",
      "_________________________________________________________________\n"
     ]
    }
   ],
   "source": [
    "model_ann = keras.models.Sequential([\n",
    "            keras.layers.Input(shape=(300, 300, 3)),\n",
    "            keras.layers.Dense(100, activation=\"relu\"),\n",
    "            keras.layers.Dense(2, activation=\"softmax\")\n",
    "])\n",
    "\n",
    "model_ann.compile(loss=\"categorical_crossentropy\", optimizer=\"adam\", metrics=[\"accuracy\"])\n",
    "model_ann.summary()"
   ]
  },
  {
   "cell_type": "code",
   "execution_count": 31,
   "metadata": {},
   "outputs": [
    {
     "name": "stdout",
     "output_type": "stream",
     "text": [
      "Epoch 1/50\n",
      "109/109 [==============================] - 2s 8ms/step - loss: 0.5928 - accuracy: 0.6708 - val_loss: 0.3352 - val_accuracy: 0.8495\n",
      "Epoch 2/50\n",
      "109/109 [==============================] - 1s 6ms/step - loss: 0.2363 - accuracy: 0.9283 - val_loss: 0.1067 - val_accuracy: 0.9879\n",
      "Epoch 3/50\n",
      "109/109 [==============================] - 1s 6ms/step - loss: 0.1057 - accuracy: 0.9706 - val_loss: 0.0689 - val_accuracy: 0.9805\n",
      "Epoch 4/50\n",
      "109/109 [==============================] - 1s 6ms/step - loss: 0.0433 - accuracy: 0.9928 - val_loss: 0.0610 - val_accuracy: 0.9940\n",
      "Epoch 5/50\n",
      "109/109 [==============================] - 1s 6ms/step - loss: 0.1545 - accuracy: 0.9574 - val_loss: 0.0811 - val_accuracy: 0.9946\n",
      "Epoch 6/50\n",
      "109/109 [==============================] - 1s 6ms/step - loss: 0.0651 - accuracy: 0.9836 - val_loss: 0.0350 - val_accuracy: 0.9913\n",
      "Epoch 7/50\n",
      "109/109 [==============================] - 1s 6ms/step - loss: 0.0659 - accuracy: 0.9770 - val_loss: 0.0407 - val_accuracy: 0.9960\n",
      "Epoch 8/50\n",
      "109/109 [==============================] - 1s 6ms/step - loss: 0.0203 - accuracy: 0.9948 - val_loss: 0.0244 - val_accuracy: 0.9966\n",
      "Epoch 9/50\n",
      "109/109 [==============================] - 1s 6ms/step - loss: 0.0157 - accuracy: 0.9971 - val_loss: 0.0208 - val_accuracy: 0.9946\n",
      "Epoch 10/50\n",
      "109/109 [==============================] - 1s 5ms/step - loss: 0.0129 - accuracy: 0.9983 - val_loss: 0.0132 - val_accuracy: 0.9966\n",
      "Epoch 11/50\n",
      "109/109 [==============================] - 1s 6ms/step - loss: 0.0178 - accuracy: 0.9954 - val_loss: 0.0287 - val_accuracy: 0.9946\n",
      "Epoch 12/50\n",
      "109/109 [==============================] - 1s 6ms/step - loss: 0.0131 - accuracy: 0.9968 - val_loss: 0.0228 - val_accuracy: 0.9946\n",
      "Epoch 13/50\n",
      "109/109 [==============================] - 1s 6ms/step - loss: 0.1528 - accuracy: 0.9651 - val_loss: 0.0612 - val_accuracy: 0.9812\n",
      "Epoch 14/50\n",
      "109/109 [==============================] - 1s 6ms/step - loss: 0.0291 - accuracy: 0.9911 - val_loss: 0.0249 - val_accuracy: 0.9966\n",
      "Epoch 15/50\n",
      "109/109 [==============================] - 1s 6ms/step - loss: 0.0090 - accuracy: 0.9991 - val_loss: 0.0147 - val_accuracy: 0.9973\n",
      "Epoch 16/50\n",
      "109/109 [==============================] - 1s 6ms/step - loss: 0.0075 - accuracy: 0.9986 - val_loss: 0.0120 - val_accuracy: 0.9973\n",
      "Epoch 17/50\n",
      "109/109 [==============================] - 1s 6ms/step - loss: 0.0021 - accuracy: 0.9997 - val_loss: 0.0101 - val_accuracy: 0.9980\n",
      "Epoch 18/50\n",
      "109/109 [==============================] - 1s 6ms/step - loss: 0.0082 - accuracy: 0.9974 - val_loss: 0.0090 - val_accuracy: 0.9980\n",
      "Epoch 19/50\n",
      "109/109 [==============================] - 1s 6ms/step - loss: 0.0104 - accuracy: 0.9951 - val_loss: 0.1591 - val_accuracy: 0.9341\n",
      "Epoch 20/50\n",
      "109/109 [==============================] - 1s 6ms/step - loss: 0.1914 - accuracy: 0.9683 - val_loss: 0.0101 - val_accuracy: 0.9973\n",
      "Epoch 21/50\n",
      "109/109 [==============================] - 1s 6ms/step - loss: 0.0388 - accuracy: 0.9856 - val_loss: 0.0100 - val_accuracy: 0.9973\n",
      "Epoch 22/50\n",
      "109/109 [==============================] - 1s 6ms/step - loss: 0.0032 - accuracy: 0.9994 - val_loss: 0.0153 - val_accuracy: 0.9973\n",
      "Epoch 23/50\n",
      "109/109 [==============================] - 1s 6ms/step - loss: 0.0030 - accuracy: 0.9997 - val_loss: 0.0165 - val_accuracy: 0.9973\n",
      "Epoch 24/50\n",
      "109/109 [==============================] - 1s 6ms/step - loss: 0.0014 - accuracy: 1.0000 - val_loss: 0.0106 - val_accuracy: 0.9973\n",
      "Epoch 25/50\n",
      "109/109 [==============================] - 1s 6ms/step - loss: 0.0012 - accuracy: 1.0000 - val_loss: 0.0082 - val_accuracy: 0.9980\n",
      "Epoch 26/50\n",
      "109/109 [==============================] - 1s 6ms/step - loss: 7.0814e-04 - accuracy: 1.0000 - val_loss: 0.0090 - val_accuracy: 0.9980\n",
      "Epoch 27/50\n",
      "109/109 [==============================] - 1s 6ms/step - loss: 0.0013 - accuracy: 0.9997 - val_loss: 0.0097 - val_accuracy: 0.9980\n",
      "Epoch 28/50\n",
      "109/109 [==============================] - 1s 6ms/step - loss: 0.0019 - accuracy: 0.9997 - val_loss: 0.0122 - val_accuracy: 0.9973\n",
      "Epoch 29/50\n",
      "109/109 [==============================] - 1s 6ms/step - loss: 9.9836e-04 - accuracy: 1.0000 - val_loss: 0.0130 - val_accuracy: 0.9980\n",
      "Epoch 30/50\n",
      "109/109 [==============================] - 1s 7ms/step - loss: 2.6350e-04 - accuracy: 1.0000 - val_loss: 0.0116 - val_accuracy: 0.9980\n",
      "Epoch 31/50\n",
      "109/109 [==============================] - 1s 8ms/step - loss: 3.1842e-04 - accuracy: 1.0000 - val_loss: 0.0119 - val_accuracy: 0.9980\n",
      "Epoch 32/50\n",
      "109/109 [==============================] - 1s 8ms/step - loss: 1.9249e-04 - accuracy: 1.0000 - val_loss: 0.0123 - val_accuracy: 0.9980\n",
      "Epoch 33/50\n",
      "109/109 [==============================] - 1s 8ms/step - loss: 1.7027e-04 - accuracy: 1.0000 - val_loss: 0.0113 - val_accuracy: 0.9980\n",
      "Epoch 34/50\n",
      "109/109 [==============================] - 1s 7ms/step - loss: 1.6976e-04 - accuracy: 1.0000 - val_loss: 0.0089 - val_accuracy: 0.9973\n",
      "Epoch 35/50\n",
      "109/109 [==============================] - 1s 6ms/step - loss: 2.0590e-04 - accuracy: 1.0000 - val_loss: 0.0126 - val_accuracy: 0.9980\n",
      "Epoch 36/50\n",
      "109/109 [==============================] - 1s 6ms/step - loss: 1.2251e-04 - accuracy: 1.0000 - val_loss: 0.0120 - val_accuracy: 0.9980\n",
      "Epoch 37/50\n",
      "109/109 [==============================] - 1s 6ms/step - loss: 1.6067e-04 - accuracy: 1.0000 - val_loss: 0.0120 - val_accuracy: 0.9980\n",
      "Epoch 38/50\n",
      "109/109 [==============================] - 1s 6ms/step - loss: 9.0641e-05 - accuracy: 1.0000 - val_loss: 0.0106 - val_accuracy: 0.9980\n",
      "Epoch 39/50\n",
      "109/109 [==============================] - 1s 6ms/step - loss: 9.9162e-05 - accuracy: 1.0000 - val_loss: 0.0124 - val_accuracy: 0.9980\n",
      "Epoch 40/50\n",
      "109/109 [==============================] - 1s 7ms/step - loss: 7.5161e-05 - accuracy: 1.0000 - val_loss: 0.0108 - val_accuracy: 0.9980\n",
      "Epoch 41/50\n",
      "109/109 [==============================] - 1s 8ms/step - loss: 7.7826e-05 - accuracy: 1.0000 - val_loss: 0.0138 - val_accuracy: 0.9980\n",
      "Epoch 42/50\n",
      "109/109 [==============================] - 1s 6ms/step - loss: 7.7242e-05 - accuracy: 1.0000 - val_loss: 0.0143 - val_accuracy: 0.9980\n",
      "Epoch 43/50\n",
      "109/109 [==============================] - 1s 6ms/step - loss: 7.5632e-05 - accuracy: 1.0000 - val_loss: 0.0098 - val_accuracy: 0.9980\n",
      "Epoch 44/50\n",
      "109/109 [==============================] - 1s 6ms/step - loss: 6.8744e-05 - accuracy: 1.0000 - val_loss: 0.0122 - val_accuracy: 0.9980\n",
      "Epoch 45/50\n",
      "109/109 [==============================] - 1s 6ms/step - loss: 5.5287e-05 - accuracy: 1.0000 - val_loss: 0.0140 - val_accuracy: 0.9980\n",
      "Epoch 46/50\n",
      "109/109 [==============================] - 1s 6ms/step - loss: 4.5918e-05 - accuracy: 1.0000 - val_loss: 0.0132 - val_accuracy: 0.9980\n",
      "Epoch 47/50\n",
      "109/109 [==============================] - 1s 5ms/step - loss: 4.4179e-05 - accuracy: 1.0000 - val_loss: 0.0156 - val_accuracy: 0.9980\n",
      "Epoch 48/50\n",
      "109/109 [==============================] - 1s 6ms/step - loss: 3.7970e-05 - accuracy: 1.0000 - val_loss: 0.0143 - val_accuracy: 0.9980\n",
      "Epoch 49/50\n",
      "109/109 [==============================] - 1s 6ms/step - loss: 4.1852e-05 - accuracy: 1.0000 - val_loss: 0.0124 - val_accuracy: 0.9980\n",
      "Epoch 50/50\n",
      "109/109 [==============================] - 1s 6ms/step - loss: 4.0005e-05 - accuracy: 1.0000 - val_loss: 0.0159 - val_accuracy: 0.9980\n"
     ]
    },
    {
     "data": {
      "text/plain": [
       "<keras.src.callbacks.History at 0x1432c334810>"
      ]
     },
     "execution_count": 31,
     "metadata": {},
     "output_type": "execute_result"
    }
   ],
   "source": [
    "model_ann.fit(X_train, y_train, epochs=50, validation_data=(X_test, y_test))"
   ]
  },
  {
   "cell_type": "code",
   "execution_count": 10,
   "metadata": {},
   "outputs": [
    {
     "name": "stdout",
     "output_type": "stream",
     "text": [
      "Epoch 1/50\n",
      "WARNING:tensorflow:From C:\\Users\\ariel\\AppData\\Local\\Packages\\PythonSoftwareFoundation.Python.3.11_qbz5n2kfra8p0\\LocalCache\\local-packages\\Python311\\site-packages\\keras\\src\\utils\\tf_utils.py:492: The name tf.ragged.RaggedTensorValue is deprecated. Please use tf.compat.v1.ragged.RaggedTensorValue instead.\n",
      "\n",
      "WARNING:tensorflow:From C:\\Users\\ariel\\AppData\\Local\\Packages\\PythonSoftwareFoundation.Python.3.11_qbz5n2kfra8p0\\LocalCache\\local-packages\\Python311\\site-packages\\keras\\src\\engine\\base_layer_utils.py:384: The name tf.executing_eagerly_outside_functions is deprecated. Please use tf.compat.v1.executing_eagerly_outside_functions instead.\n",
      "\n",
      "105/106 [============================>.] - ETA: 0s - loss: 0.4778 - accuracy: 0.7613INFO:tensorflow:Assets written to: Data/cnn_checkpoints\\checkpoint_01\\assets\n"
     ]
    },
    {
     "name": "stderr",
     "output_type": "stream",
     "text": [
      "INFO:tensorflow:Assets written to: Data/cnn_checkpoints\\checkpoint_01\\assets\n"
     ]
    },
    {
     "name": "stdout",
     "output_type": "stream",
     "text": [
      "106/106 [==============================] - 5s 33ms/step - loss: 0.4769 - accuracy: 0.7619 - val_loss: 0.2020 - val_accuracy: 0.9848\n",
      "Epoch 2/50\n",
      "104/106 [============================>.] - ETA: 0s - loss: 0.1561 - accuracy: 0.9522INFO:tensorflow:Assets written to: Data/cnn_checkpoints\\checkpoint_02\\assets\n"
     ]
    },
    {
     "name": "stderr",
     "output_type": "stream",
     "text": [
      "INFO:tensorflow:Assets written to: Data/cnn_checkpoints\\checkpoint_02\\assets\n"
     ]
    },
    {
     "name": "stdout",
     "output_type": "stream",
     "text": [
      "106/106 [==============================] - 3s 29ms/step - loss: 0.1549 - accuracy: 0.9528 - val_loss: 0.0695 - val_accuracy: 0.9910\n",
      "Epoch 3/50\n",
      "103/106 [============================>.] - ETA: 0s - loss: 0.0730 - accuracy: 0.9836INFO:tensorflow:Assets written to: Data/cnn_checkpoints\\checkpoint_03\\assets\n"
     ]
    },
    {
     "name": "stderr",
     "output_type": "stream",
     "text": [
      "INFO:tensorflow:Assets written to: Data/cnn_checkpoints\\checkpoint_03\\assets\n"
     ]
    },
    {
     "name": "stdout",
     "output_type": "stream",
     "text": [
      "106/106 [==============================] - 3s 30ms/step - loss: 0.0724 - accuracy: 0.9837 - val_loss: 0.0540 - val_accuracy: 0.9896\n",
      "Epoch 4/50\n",
      "103/106 [============================>.] - ETA: 0s - loss: 0.0540 - accuracy: 0.9885INFO:tensorflow:Assets written to: Data/cnn_checkpoints\\checkpoint_04\\assets\n"
     ]
    },
    {
     "name": "stderr",
     "output_type": "stream",
     "text": [
      "INFO:tensorflow:Assets written to: Data/cnn_checkpoints\\checkpoint_04\\assets\n"
     ]
    },
    {
     "name": "stdout",
     "output_type": "stream",
     "text": [
      "106/106 [==============================] - 3s 27ms/step - loss: 0.0532 - accuracy: 0.9887 - val_loss: 0.0290 - val_accuracy: 0.9938\n",
      "Epoch 5/50\n",
      "103/106 [============================>.] - ETA: 0s - loss: 0.0398 - accuracy: 0.9909INFO:tensorflow:Assets written to: Data/cnn_checkpoints\\checkpoint_05\\assets\n"
     ]
    },
    {
     "name": "stderr",
     "output_type": "stream",
     "text": [
      "INFO:tensorflow:Assets written to: Data/cnn_checkpoints\\checkpoint_05\\assets\n"
     ]
    },
    {
     "name": "stdout",
     "output_type": "stream",
     "text": [
      "106/106 [==============================] - 3s 28ms/step - loss: 0.0393 - accuracy: 0.9911 - val_loss: 0.0275 - val_accuracy: 0.9938\n",
      "Epoch 6/50\n",
      "105/106 [============================>.] - ETA: 0s - loss: 0.0299 - accuracy: 0.9943INFO:tensorflow:Assets written to: Data/cnn_checkpoints\\checkpoint_06\\assets\n"
     ]
    },
    {
     "name": "stderr",
     "output_type": "stream",
     "text": [
      "INFO:tensorflow:Assets written to: Data/cnn_checkpoints\\checkpoint_06\\assets\n"
     ]
    },
    {
     "name": "stdout",
     "output_type": "stream",
     "text": [
      "106/106 [==============================] - 3s 28ms/step - loss: 0.0299 - accuracy: 0.9944 - val_loss: 0.0155 - val_accuracy: 0.9952\n",
      "Epoch 7/50\n",
      "105/106 [============================>.] - ETA: 0s - loss: 0.0200 - accuracy: 0.9955INFO:tensorflow:Assets written to: Data/cnn_checkpoints\\checkpoint_07\\assets\n"
     ]
    },
    {
     "name": "stderr",
     "output_type": "stream",
     "text": [
      "INFO:tensorflow:Assets written to: Data/cnn_checkpoints\\checkpoint_07\\assets\n"
     ]
    },
    {
     "name": "stdout",
     "output_type": "stream",
     "text": [
      "106/106 [==============================] - 3s 32ms/step - loss: 0.0199 - accuracy: 0.9955 - val_loss: 0.0125 - val_accuracy: 0.9986\n",
      "Epoch 8/50\n",
      "104/106 [============================>.] - ETA: 0s - loss: 0.0184 - accuracy: 0.9955INFO:tensorflow:Assets written to: Data/cnn_checkpoints\\checkpoint_08\\assets\n"
     ]
    },
    {
     "name": "stderr",
     "output_type": "stream",
     "text": [
      "INFO:tensorflow:Assets written to: Data/cnn_checkpoints\\checkpoint_08\\assets\n"
     ]
    },
    {
     "name": "stdout",
     "output_type": "stream",
     "text": [
      "106/106 [==============================] - 4s 34ms/step - loss: 0.0186 - accuracy: 0.9953 - val_loss: 0.0118 - val_accuracy: 0.9958\n",
      "Epoch 9/50\n",
      "106/106 [==============================] - ETA: 0s - loss: 0.0207 - accuracy: 0.9958INFO:tensorflow:Assets written to: Data/cnn_checkpoints\\checkpoint_09\\assets\n"
     ]
    },
    {
     "name": "stderr",
     "output_type": "stream",
     "text": [
      "INFO:tensorflow:Assets written to: Data/cnn_checkpoints\\checkpoint_09\\assets\n"
     ]
    },
    {
     "name": "stdout",
     "output_type": "stream",
     "text": [
      "106/106 [==============================] - 3s 32ms/step - loss: 0.0207 - accuracy: 0.9958 - val_loss: 0.0092 - val_accuracy: 0.9986\n",
      "Epoch 10/50\n",
      "106/106 [==============================] - ETA: 0s - loss: 0.0099 - accuracy: 0.9979INFO:tensorflow:Assets written to: Data/cnn_checkpoints\\checkpoint_10\\assets\n"
     ]
    },
    {
     "name": "stderr",
     "output_type": "stream",
     "text": [
      "INFO:tensorflow:Assets written to: Data/cnn_checkpoints\\checkpoint_10\\assets\n"
     ]
    },
    {
     "name": "stdout",
     "output_type": "stream",
     "text": [
      "106/106 [==============================] - 3s 28ms/step - loss: 0.0099 - accuracy: 0.9979 - val_loss: 0.0082 - val_accuracy: 0.9986\n",
      "Epoch 11/50\n",
      "104/106 [============================>.] - ETA: 0s - loss: 0.0102 - accuracy: 0.9979INFO:tensorflow:Assets written to: Data/cnn_checkpoints\\checkpoint_11\\assets\n"
     ]
    },
    {
     "name": "stderr",
     "output_type": "stream",
     "text": [
      "INFO:tensorflow:Assets written to: Data/cnn_checkpoints\\checkpoint_11\\assets\n"
     ]
    },
    {
     "name": "stdout",
     "output_type": "stream",
     "text": [
      "106/106 [==============================] - 3s 27ms/step - loss: 0.0102 - accuracy: 0.9979 - val_loss: 0.0084 - val_accuracy: 0.9986\n",
      "Epoch 12/50\n",
      "105/106 [============================>.] - ETA: 0s - loss: 0.0073 - accuracy: 0.9979INFO:tensorflow:Assets written to: Data/cnn_checkpoints\\checkpoint_12\\assets\n"
     ]
    },
    {
     "name": "stderr",
     "output_type": "stream",
     "text": [
      "INFO:tensorflow:Assets written to: Data/cnn_checkpoints\\checkpoint_12\\assets\n"
     ]
    },
    {
     "name": "stdout",
     "output_type": "stream",
     "text": [
      "106/106 [==============================] - 3s 30ms/step - loss: 0.0073 - accuracy: 0.9979 - val_loss: 0.0128 - val_accuracy: 0.9965\n",
      "Epoch 13/50\n",
      "105/106 [============================>.] - ETA: 0s - loss: 0.0049 - accuracy: 0.9991INFO:tensorflow:Assets written to: Data/cnn_checkpoints\\checkpoint_13\\assets\n"
     ]
    },
    {
     "name": "stderr",
     "output_type": "stream",
     "text": [
      "INFO:tensorflow:Assets written to: Data/cnn_checkpoints\\checkpoint_13\\assets\n"
     ]
    },
    {
     "name": "stdout",
     "output_type": "stream",
     "text": [
      "106/106 [==============================] - 3s 29ms/step - loss: 0.0049 - accuracy: 0.9991 - val_loss: 0.0104 - val_accuracy: 0.9986\n",
      "Epoch 14/50\n",
      "105/106 [============================>.] - ETA: 0s - loss: 0.0079 - accuracy: 0.9985INFO:tensorflow:Assets written to: Data/cnn_checkpoints\\checkpoint_14\\assets\n"
     ]
    },
    {
     "name": "stderr",
     "output_type": "stream",
     "text": [
      "INFO:tensorflow:Assets written to: Data/cnn_checkpoints\\checkpoint_14\\assets\n"
     ]
    },
    {
     "name": "stdout",
     "output_type": "stream",
     "text": [
      "106/106 [==============================] - 3s 28ms/step - loss: 0.0079 - accuracy: 0.9985 - val_loss: 0.0183 - val_accuracy: 0.9972\n",
      "Epoch 15/50\n",
      "103/106 [============================>.] - ETA: 0s - loss: 0.0061 - accuracy: 0.9979INFO:tensorflow:Assets written to: Data/cnn_checkpoints\\checkpoint_15\\assets\n"
     ]
    },
    {
     "name": "stderr",
     "output_type": "stream",
     "text": [
      "INFO:tensorflow:Assets written to: Data/cnn_checkpoints\\checkpoint_15\\assets\n"
     ]
    },
    {
     "name": "stdout",
     "output_type": "stream",
     "text": [
      "106/106 [==============================] - 4s 34ms/step - loss: 0.0060 - accuracy: 0.9979 - val_loss: 0.0080 - val_accuracy: 0.9986\n",
      "Epoch 16/50\n",
      "102/106 [===========================>..] - ETA: 0s - loss: 0.0072 - accuracy: 0.9985INFO:tensorflow:Assets written to: Data/cnn_checkpoints\\checkpoint_16\\assets\n"
     ]
    },
    {
     "name": "stderr",
     "output_type": "stream",
     "text": [
      "INFO:tensorflow:Assets written to: Data/cnn_checkpoints\\checkpoint_16\\assets\n"
     ]
    },
    {
     "name": "stdout",
     "output_type": "stream",
     "text": [
      "106/106 [==============================] - 3s 25ms/step - loss: 0.0070 - accuracy: 0.9985 - val_loss: 0.0077 - val_accuracy: 0.9979\n",
      "Epoch 17/50\n",
      "104/106 [============================>.] - ETA: 0s - loss: 0.0069 - accuracy: 0.9991INFO:tensorflow:Assets written to: Data/cnn_checkpoints\\checkpoint_17\\assets\n"
     ]
    },
    {
     "name": "stderr",
     "output_type": "stream",
     "text": [
      "INFO:tensorflow:Assets written to: Data/cnn_checkpoints\\checkpoint_17\\assets\n"
     ]
    },
    {
     "name": "stdout",
     "output_type": "stream",
     "text": [
      "106/106 [==============================] - 3s 29ms/step - loss: 0.0069 - accuracy: 0.9991 - val_loss: 0.0069 - val_accuracy: 0.9979\n",
      "Epoch 18/50\n",
      "105/106 [============================>.] - ETA: 0s - loss: 0.0084 - accuracy: 0.9982INFO:tensorflow:Assets written to: Data/cnn_checkpoints\\checkpoint_18\\assets\n"
     ]
    },
    {
     "name": "stderr",
     "output_type": "stream",
     "text": [
      "INFO:tensorflow:Assets written to: Data/cnn_checkpoints\\checkpoint_18\\assets\n"
     ]
    },
    {
     "name": "stdout",
     "output_type": "stream",
     "text": [
      "106/106 [==============================] - 3s 25ms/step - loss: 0.0084 - accuracy: 0.9982 - val_loss: 0.0062 - val_accuracy: 0.9986\n",
      "Epoch 19/50\n",
      "105/106 [============================>.] - ETA: 0s - loss: 0.0049 - accuracy: 0.9991INFO:tensorflow:Assets written to: Data/cnn_checkpoints\\checkpoint_19\\assets\n"
     ]
    },
    {
     "name": "stderr",
     "output_type": "stream",
     "text": [
      "INFO:tensorflow:Assets written to: Data/cnn_checkpoints\\checkpoint_19\\assets\n"
     ]
    },
    {
     "name": "stdout",
     "output_type": "stream",
     "text": [
      "106/106 [==============================] - 3s 28ms/step - loss: 0.0048 - accuracy: 0.9991 - val_loss: 0.0105 - val_accuracy: 0.9986\n",
      "Epoch 20/50\n",
      "104/106 [============================>.] - ETA: 0s - loss: 0.0015 - accuracy: 1.0000INFO:tensorflow:Assets written to: Data/cnn_checkpoints\\checkpoint_20\\assets\n"
     ]
    },
    {
     "name": "stderr",
     "output_type": "stream",
     "text": [
      "INFO:tensorflow:Assets written to: Data/cnn_checkpoints\\checkpoint_20\\assets\n"
     ]
    },
    {
     "name": "stdout",
     "output_type": "stream",
     "text": [
      "106/106 [==============================] - 3s 27ms/step - loss: 0.0015 - accuracy: 1.0000 - val_loss: 0.0085 - val_accuracy: 0.9986\n",
      "Epoch 21/50\n",
      "104/106 [============================>.] - ETA: 0s - loss: 0.0017 - accuracy: 0.9997INFO:tensorflow:Assets written to: Data/cnn_checkpoints\\checkpoint_21\\assets\n"
     ]
    },
    {
     "name": "stderr",
     "output_type": "stream",
     "text": [
      "INFO:tensorflow:Assets written to: Data/cnn_checkpoints\\checkpoint_21\\assets\n"
     ]
    },
    {
     "name": "stdout",
     "output_type": "stream",
     "text": [
      "106/106 [==============================] - 3s 26ms/step - loss: 0.0016 - accuracy: 0.9997 - val_loss: 0.0111 - val_accuracy: 0.9986\n",
      "Epoch 22/50\n",
      "103/106 [============================>.] - ETA: 0s - loss: 0.0022 - accuracy: 0.9997INFO:tensorflow:Assets written to: Data/cnn_checkpoints\\checkpoint_22\\assets\n"
     ]
    },
    {
     "name": "stderr",
     "output_type": "stream",
     "text": [
      "INFO:tensorflow:Assets written to: Data/cnn_checkpoints\\checkpoint_22\\assets\n"
     ]
    },
    {
     "name": "stdout",
     "output_type": "stream",
     "text": [
      "106/106 [==============================] - 3s 27ms/step - loss: 0.0022 - accuracy: 0.9997 - val_loss: 0.0044 - val_accuracy: 0.9993\n",
      "Epoch 23/50\n",
      "106/106 [==============================] - ETA: 0s - loss: 0.0062 - accuracy: 0.9994INFO:tensorflow:Assets written to: Data/cnn_checkpoints\\checkpoint_23\\assets\n"
     ]
    },
    {
     "name": "stderr",
     "output_type": "stream",
     "text": [
      "INFO:tensorflow:Assets written to: Data/cnn_checkpoints\\checkpoint_23\\assets\n"
     ]
    },
    {
     "name": "stdout",
     "output_type": "stream",
     "text": [
      "106/106 [==============================] - 3s 28ms/step - loss: 0.0062 - accuracy: 0.9994 - val_loss: 0.0128 - val_accuracy: 0.9986\n",
      "Epoch 24/50\n",
      "104/106 [============================>.] - ETA: 0s - loss: 0.0067 - accuracy: 0.9985INFO:tensorflow:Assets written to: Data/cnn_checkpoints\\checkpoint_24\\assets\n"
     ]
    },
    {
     "name": "stderr",
     "output_type": "stream",
     "text": [
      "INFO:tensorflow:Assets written to: Data/cnn_checkpoints\\checkpoint_24\\assets\n"
     ]
    },
    {
     "name": "stdout",
     "output_type": "stream",
     "text": [
      "106/106 [==============================] - 3s 27ms/step - loss: 0.0067 - accuracy: 0.9985 - val_loss: 0.0184 - val_accuracy: 0.9979\n",
      "Epoch 25/50\n",
      "105/106 [============================>.] - ETA: 0s - loss: 0.0028 - accuracy: 0.9997INFO:tensorflow:Assets written to: Data/cnn_checkpoints\\checkpoint_25\\assets\n"
     ]
    },
    {
     "name": "stderr",
     "output_type": "stream",
     "text": [
      "INFO:tensorflow:Assets written to: Data/cnn_checkpoints\\checkpoint_25\\assets\n"
     ]
    },
    {
     "name": "stdout",
     "output_type": "stream",
     "text": [
      "106/106 [==============================] - 3s 30ms/step - loss: 0.0028 - accuracy: 0.9997 - val_loss: 0.0100 - val_accuracy: 0.9986\n",
      "Epoch 26/50\n",
      "105/106 [============================>.] - ETA: 0s - loss: 0.0019 - accuracy: 0.9997INFO:tensorflow:Assets written to: Data/cnn_checkpoints\\checkpoint_26\\assets\n"
     ]
    },
    {
     "name": "stderr",
     "output_type": "stream",
     "text": [
      "INFO:tensorflow:Assets written to: Data/cnn_checkpoints\\checkpoint_26\\assets\n"
     ]
    },
    {
     "name": "stdout",
     "output_type": "stream",
     "text": [
      "106/106 [==============================] - 5s 46ms/step - loss: 0.0019 - accuracy: 0.9997 - val_loss: 0.0048 - val_accuracy: 0.9986\n",
      "Epoch 27/50\n",
      "106/106 [==============================] - ETA: 0s - loss: 0.0037 - accuracy: 0.9994INFO:tensorflow:Assets written to: Data/cnn_checkpoints\\checkpoint_27\\assets\n"
     ]
    },
    {
     "name": "stderr",
     "output_type": "stream",
     "text": [
      "INFO:tensorflow:Assets written to: Data/cnn_checkpoints\\checkpoint_27\\assets\n"
     ]
    },
    {
     "name": "stdout",
     "output_type": "stream",
     "text": [
      "106/106 [==============================] - 6s 56ms/step - loss: 0.0037 - accuracy: 0.9994 - val_loss: 0.0086 - val_accuracy: 0.9986\n",
      "Epoch 28/50\n",
      "105/106 [============================>.] - ETA: 0s - loss: 0.0094 - accuracy: 0.9976INFO:tensorflow:Assets written to: Data/cnn_checkpoints\\checkpoint_28\\assets\n"
     ]
    },
    {
     "name": "stderr",
     "output_type": "stream",
     "text": [
      "INFO:tensorflow:Assets written to: Data/cnn_checkpoints\\checkpoint_28\\assets\n"
     ]
    },
    {
     "name": "stdout",
     "output_type": "stream",
     "text": [
      "106/106 [==============================] - 7s 67ms/step - loss: 0.0094 - accuracy: 0.9976 - val_loss: 0.0072 - val_accuracy: 0.9986\n",
      "Epoch 29/50\n",
      "105/106 [============================>.] - ETA: 0s - loss: 0.0028 - accuracy: 0.9997INFO:tensorflow:Assets written to: Data/cnn_checkpoints\\checkpoint_29\\assets\n"
     ]
    },
    {
     "name": "stderr",
     "output_type": "stream",
     "text": [
      "INFO:tensorflow:Assets written to: Data/cnn_checkpoints\\checkpoint_29\\assets\n"
     ]
    },
    {
     "name": "stdout",
     "output_type": "stream",
     "text": [
      "106/106 [==============================] - 7s 64ms/step - loss: 0.0028 - accuracy: 0.9997 - val_loss: 0.0141 - val_accuracy: 0.9979\n",
      "Epoch 30/50\n",
      "105/106 [============================>.] - ETA: 0s - loss: 0.0031 - accuracy: 0.9994INFO:tensorflow:Assets written to: Data/cnn_checkpoints\\checkpoint_30\\assets\n"
     ]
    },
    {
     "name": "stderr",
     "output_type": "stream",
     "text": [
      "INFO:tensorflow:Assets written to: Data/cnn_checkpoints\\checkpoint_30\\assets\n"
     ]
    },
    {
     "name": "stdout",
     "output_type": "stream",
     "text": [
      "106/106 [==============================] - 6s 54ms/step - loss: 0.0030 - accuracy: 0.9994 - val_loss: 0.0165 - val_accuracy: 0.9979\n",
      "Epoch 31/50\n",
      "106/106 [==============================] - ETA: 0s - loss: 7.3724e-04 - accuracy: 1.0000INFO:tensorflow:Assets written to: Data/cnn_checkpoints\\checkpoint_31\\assets\n"
     ]
    },
    {
     "name": "stderr",
     "output_type": "stream",
     "text": [
      "INFO:tensorflow:Assets written to: Data/cnn_checkpoints\\checkpoint_31\\assets\n"
     ]
    },
    {
     "name": "stdout",
     "output_type": "stream",
     "text": [
      "106/106 [==============================] - 6s 54ms/step - loss: 7.3724e-04 - accuracy: 1.0000 - val_loss: 0.0106 - val_accuracy: 0.9986\n",
      "Epoch 32/50\n",
      "104/106 [============================>.] - ETA: 0s - loss: 0.0022 - accuracy: 0.9991INFO:tensorflow:Assets written to: Data/cnn_checkpoints\\checkpoint_32\\assets\n"
     ]
    },
    {
     "name": "stderr",
     "output_type": "stream",
     "text": [
      "INFO:tensorflow:Assets written to: Data/cnn_checkpoints\\checkpoint_32\\assets\n"
     ]
    },
    {
     "name": "stdout",
     "output_type": "stream",
     "text": [
      "106/106 [==============================] - 4s 36ms/step - loss: 0.0021 - accuracy: 0.9991 - val_loss: 0.0115 - val_accuracy: 0.9986\n",
      "Epoch 33/50\n",
      "104/106 [============================>.] - ETA: 0s - loss: 0.0060 - accuracy: 0.9991INFO:tensorflow:Assets written to: Data/cnn_checkpoints\\checkpoint_33\\assets\n"
     ]
    },
    {
     "name": "stderr",
     "output_type": "stream",
     "text": [
      "INFO:tensorflow:Assets written to: Data/cnn_checkpoints\\checkpoint_33\\assets\n"
     ]
    },
    {
     "name": "stdout",
     "output_type": "stream",
     "text": [
      "106/106 [==============================] - 5s 43ms/step - loss: 0.0059 - accuracy: 0.9991 - val_loss: 0.0112 - val_accuracy: 0.9986\n",
      "Epoch 34/50\n",
      "105/106 [============================>.] - ETA: 0s - loss: 0.0037 - accuracy: 0.9991INFO:tensorflow:Assets written to: Data/cnn_checkpoints\\checkpoint_34\\assets\n"
     ]
    },
    {
     "name": "stderr",
     "output_type": "stream",
     "text": [
      "INFO:tensorflow:Assets written to: Data/cnn_checkpoints\\checkpoint_34\\assets\n"
     ]
    },
    {
     "name": "stdout",
     "output_type": "stream",
     "text": [
      "106/106 [==============================] - 3s 30ms/step - loss: 0.0037 - accuracy: 0.9991 - val_loss: 0.0075 - val_accuracy: 0.9986\n",
      "Epoch 35/50\n",
      "105/106 [============================>.] - ETA: 0s - loss: 0.0134 - accuracy: 0.9973INFO:tensorflow:Assets written to: Data/cnn_checkpoints\\checkpoint_35\\assets\n"
     ]
    },
    {
     "name": "stderr",
     "output_type": "stream",
     "text": [
      "INFO:tensorflow:Assets written to: Data/cnn_checkpoints\\checkpoint_35\\assets\n"
     ]
    },
    {
     "name": "stdout",
     "output_type": "stream",
     "text": [
      "106/106 [==============================] - 4s 33ms/step - loss: 0.0134 - accuracy: 0.9973 - val_loss: 0.0120 - val_accuracy: 0.9986\n",
      "Epoch 36/50\n",
      "104/106 [============================>.] - ETA: 0s - loss: 9.9822e-04 - accuracy: 1.0000INFO:tensorflow:Assets written to: Data/cnn_checkpoints\\checkpoint_36\\assets\n"
     ]
    },
    {
     "name": "stderr",
     "output_type": "stream",
     "text": [
      "INFO:tensorflow:Assets written to: Data/cnn_checkpoints\\checkpoint_36\\assets\n"
     ]
    },
    {
     "name": "stdout",
     "output_type": "stream",
     "text": [
      "106/106 [==============================] - 3s 30ms/step - loss: 0.0013 - accuracy: 0.9997 - val_loss: 0.0098 - val_accuracy: 0.9986\n",
      "Epoch 37/50\n",
      "105/106 [============================>.] - ETA: 0s - loss: 0.0026 - accuracy: 0.9994INFO:tensorflow:Assets written to: Data/cnn_checkpoints\\checkpoint_37\\assets\n"
     ]
    },
    {
     "name": "stderr",
     "output_type": "stream",
     "text": [
      "INFO:tensorflow:Assets written to: Data/cnn_checkpoints\\checkpoint_37\\assets\n"
     ]
    },
    {
     "name": "stdout",
     "output_type": "stream",
     "text": [
      "106/106 [==============================] - 3s 27ms/step - loss: 0.0026 - accuracy: 0.9994 - val_loss: 0.0108 - val_accuracy: 0.9986\n",
      "Epoch 38/50\n",
      "104/106 [============================>.] - ETA: 0s - loss: 9.6189e-04 - accuracy: 0.9997INFO:tensorflow:Assets written to: Data/cnn_checkpoints\\checkpoint_38\\assets\n"
     ]
    },
    {
     "name": "stderr",
     "output_type": "stream",
     "text": [
      "INFO:tensorflow:Assets written to: Data/cnn_checkpoints\\checkpoint_38\\assets\n"
     ]
    },
    {
     "name": "stdout",
     "output_type": "stream",
     "text": [
      "106/106 [==============================] - 3s 28ms/step - loss: 9.5216e-04 - accuracy: 0.9997 - val_loss: 0.0105 - val_accuracy: 0.9986\n",
      "Epoch 39/50\n",
      "106/106 [==============================] - ETA: 0s - loss: 0.0032 - accuracy: 0.9994INFO:tensorflow:Assets written to: Data/cnn_checkpoints\\checkpoint_39\\assets\n"
     ]
    },
    {
     "name": "stderr",
     "output_type": "stream",
     "text": [
      "INFO:tensorflow:Assets written to: Data/cnn_checkpoints\\checkpoint_39\\assets\n"
     ]
    },
    {
     "name": "stdout",
     "output_type": "stream",
     "text": [
      "106/106 [==============================] - 3s 26ms/step - loss: 0.0032 - accuracy: 0.9994 - val_loss: 0.0193 - val_accuracy: 0.9972\n",
      "Epoch 40/50\n",
      "104/106 [============================>.] - ETA: 0s - loss: 0.0018 - accuracy: 1.0000INFO:tensorflow:Assets written to: Data/cnn_checkpoints\\checkpoint_40\\assets\n"
     ]
    },
    {
     "name": "stderr",
     "output_type": "stream",
     "text": [
      "INFO:tensorflow:Assets written to: Data/cnn_checkpoints\\checkpoint_40\\assets\n"
     ]
    },
    {
     "name": "stdout",
     "output_type": "stream",
     "text": [
      "106/106 [==============================] - 3s 26ms/step - loss: 0.0018 - accuracy: 1.0000 - val_loss: 0.0117 - val_accuracy: 0.9993\n",
      "Epoch 41/50\n",
      "106/106 [==============================] - ETA: 0s - loss: 0.0013 - accuracy: 0.9997INFO:tensorflow:Assets written to: Data/cnn_checkpoints\\checkpoint_41\\assets\n"
     ]
    },
    {
     "name": "stderr",
     "output_type": "stream",
     "text": [
      "INFO:tensorflow:Assets written to: Data/cnn_checkpoints\\checkpoint_41\\assets\n"
     ]
    },
    {
     "name": "stdout",
     "output_type": "stream",
     "text": [
      "106/106 [==============================] - 3s 31ms/step - loss: 0.0013 - accuracy: 0.9997 - val_loss: 0.0101 - val_accuracy: 0.9986\n",
      "Epoch 42/50\n",
      "106/106 [==============================] - ETA: 0s - loss: 0.0026 - accuracy: 0.9991INFO:tensorflow:Assets written to: Data/cnn_checkpoints\\checkpoint_42\\assets\n"
     ]
    },
    {
     "name": "stderr",
     "output_type": "stream",
     "text": [
      "INFO:tensorflow:Assets written to: Data/cnn_checkpoints\\checkpoint_42\\assets\n"
     ]
    },
    {
     "name": "stdout",
     "output_type": "stream",
     "text": [
      "106/106 [==============================] - 3s 27ms/step - loss: 0.0026 - accuracy: 0.9991 - val_loss: 0.0092 - val_accuracy: 0.9986\n",
      "Epoch 43/50\n",
      "104/106 [============================>.] - ETA: 0s - loss: 0.0073 - accuracy: 0.9973INFO:tensorflow:Assets written to: Data/cnn_checkpoints\\checkpoint_43\\assets\n"
     ]
    },
    {
     "name": "stderr",
     "output_type": "stream",
     "text": [
      "INFO:tensorflow:Assets written to: Data/cnn_checkpoints\\checkpoint_43\\assets\n"
     ]
    },
    {
     "name": "stdout",
     "output_type": "stream",
     "text": [
      "106/106 [==============================] - 3s 25ms/step - loss: 0.0073 - accuracy: 0.9973 - val_loss: 0.0030 - val_accuracy: 0.9993\n",
      "Epoch 44/50\n",
      "105/106 [============================>.] - ETA: 0s - loss: 0.0072 - accuracy: 0.9976INFO:tensorflow:Assets written to: Data/cnn_checkpoints\\checkpoint_44\\assets\n"
     ]
    },
    {
     "name": "stderr",
     "output_type": "stream",
     "text": [
      "INFO:tensorflow:Assets written to: Data/cnn_checkpoints\\checkpoint_44\\assets\n"
     ]
    },
    {
     "name": "stdout",
     "output_type": "stream",
     "text": [
      "106/106 [==============================] - 3s 24ms/step - loss: 0.0072 - accuracy: 0.9976 - val_loss: 0.0108 - val_accuracy: 0.9986\n",
      "Epoch 45/50\n",
      "105/106 [============================>.] - ETA: 0s - loss: 0.0064 - accuracy: 0.9976INFO:tensorflow:Assets written to: Data/cnn_checkpoints\\checkpoint_45\\assets\n"
     ]
    },
    {
     "name": "stderr",
     "output_type": "stream",
     "text": [
      "INFO:tensorflow:Assets written to: Data/cnn_checkpoints\\checkpoint_45\\assets\n"
     ]
    },
    {
     "name": "stdout",
     "output_type": "stream",
     "text": [
      "106/106 [==============================] - 3s 25ms/step - loss: 0.0064 - accuracy: 0.9976 - val_loss: 0.0128 - val_accuracy: 0.9979\n",
      "Epoch 46/50\n",
      "103/106 [============================>.] - ETA: 0s - loss: 0.0048 - accuracy: 0.9985INFO:tensorflow:Assets written to: Data/cnn_checkpoints\\checkpoint_46\\assets\n"
     ]
    },
    {
     "name": "stderr",
     "output_type": "stream",
     "text": [
      "INFO:tensorflow:Assets written to: Data/cnn_checkpoints\\checkpoint_46\\assets\n"
     ]
    },
    {
     "name": "stdout",
     "output_type": "stream",
     "text": [
      "106/106 [==============================] - 3s 30ms/step - loss: 0.0048 - accuracy: 0.9985 - val_loss: 0.0248 - val_accuracy: 0.9965\n",
      "Epoch 47/50\n",
      "106/106 [==============================] - ETA: 0s - loss: 0.0058 - accuracy: 0.9979INFO:tensorflow:Assets written to: Data/cnn_checkpoints\\checkpoint_47\\assets\n"
     ]
    },
    {
     "name": "stderr",
     "output_type": "stream",
     "text": [
      "INFO:tensorflow:Assets written to: Data/cnn_checkpoints\\checkpoint_47\\assets\n"
     ]
    },
    {
     "name": "stdout",
     "output_type": "stream",
     "text": [
      "106/106 [==============================] - 3s 26ms/step - loss: 0.0058 - accuracy: 0.9979 - val_loss: 0.0055 - val_accuracy: 0.9986\n",
      "Epoch 48/50\n",
      "103/106 [============================>.] - ETA: 0s - loss: 6.6131e-04 - accuracy: 1.0000INFO:tensorflow:Assets written to: Data/cnn_checkpoints\\checkpoint_48\\assets\n"
     ]
    },
    {
     "name": "stderr",
     "output_type": "stream",
     "text": [
      "INFO:tensorflow:Assets written to: Data/cnn_checkpoints\\checkpoint_48\\assets\n"
     ]
    },
    {
     "name": "stdout",
     "output_type": "stream",
     "text": [
      "106/106 [==============================] - 3s 26ms/step - loss: 6.4746e-04 - accuracy: 1.0000 - val_loss: 0.0102 - val_accuracy: 0.9979\n",
      "Epoch 49/50\n",
      "103/106 [============================>.] - ETA: 0s - loss: 1.7223e-04 - accuracy: 1.0000INFO:tensorflow:Assets written to: Data/cnn_checkpoints\\checkpoint_49\\assets\n"
     ]
    },
    {
     "name": "stderr",
     "output_type": "stream",
     "text": [
      "INFO:tensorflow:Assets written to: Data/cnn_checkpoints\\checkpoint_49\\assets\n"
     ]
    },
    {
     "name": "stdout",
     "output_type": "stream",
     "text": [
      "106/106 [==============================] - 3s 25ms/step - loss: 1.6888e-04 - accuracy: 1.0000 - val_loss: 0.0121 - val_accuracy: 0.9979\n",
      "Epoch 50/50\n",
      "106/106 [==============================] - ETA: 0s - loss: 0.0091 - accuracy: 0.9991INFO:tensorflow:Assets written to: Data/cnn_checkpoints\\checkpoint_50\\assets\n"
     ]
    },
    {
     "name": "stderr",
     "output_type": "stream",
     "text": [
      "INFO:tensorflow:Assets written to: Data/cnn_checkpoints\\checkpoint_50\\assets\n"
     ]
    },
    {
     "name": "stdout",
     "output_type": "stream",
     "text": [
      "106/106 [==============================] - 3s 27ms/step - loss: 0.0091 - accuracy: 0.9991 - val_loss: 0.0057 - val_accuracy: 0.9986\n"
     ]
    },
    {
     "data": {
      "text/plain": [
       "<keras.src.callbacks.History at 0x26f5155f210>"
      ]
     },
     "execution_count": 10,
     "metadata": {},
     "output_type": "execute_result"
    }
   ],
   "source": [
    "checkpoint = keras.callbacks.ModelCheckpoint('Data/cnn_checkpoints/checkpoint_{epoch:02d}', save_freq='epoch')\n",
    "model_cnn.fit(X_train, y_train, epochs=50, validation_data=(X_test, y_test), callbacks=checkpoint)"
   ]
  },
  {
   "cell_type": "code",
   "execution_count": 8,
   "metadata": {},
   "outputs": [
    {
     "ename": "NameError",
     "evalue": "name 'model_ann' is not defined",
     "output_type": "error",
     "traceback": [
      "\u001b[1;31m---------------------------------------------------------------------------\u001b[0m",
      "\u001b[1;31mNameError\u001b[0m                                 Traceback (most recent call last)",
      "Cell \u001b[1;32mIn[8], line 1\u001b[0m\n\u001b[1;32m----> 1\u001b[0m loss \u001b[38;5;241m=\u001b[39m \u001b[43mmodel_ann\u001b[49m\u001b[38;5;241m.\u001b[39mhistory\u001b[38;5;241m.\u001b[39mhistory[\u001b[38;5;124m'\u001b[39m\u001b[38;5;124mloss\u001b[39m\u001b[38;5;124m'\u001b[39m]\n\u001b[0;32m      2\u001b[0m validation_loss \u001b[38;5;241m=\u001b[39m model_ann\u001b[38;5;241m.\u001b[39mhistory\u001b[38;5;241m.\u001b[39mhistory[\u001b[38;5;124m'\u001b[39m\u001b[38;5;124mval_loss\u001b[39m\u001b[38;5;124m'\u001b[39m]\n\u001b[0;32m      4\u001b[0m fig, ax \u001b[38;5;241m=\u001b[39m plt\u001b[38;5;241m.\u001b[39msubplots(nrows\u001b[38;5;241m=\u001b[39m\u001b[38;5;241m1\u001b[39m, ncols\u001b[38;5;241m=\u001b[39m\u001b[38;5;241m1\u001b[39m, figsize\u001b[38;5;241m=\u001b[39m(\u001b[38;5;241m10\u001b[39m,\u001b[38;5;241m5\u001b[39m))\n",
      "\u001b[1;31mNameError\u001b[0m: name 'model_ann' is not defined"
     ]
    }
   ],
   "source": [
    "loss = model_ann.history.history['loss']\n",
    "validation_loss = model_ann.history.history['val_loss']\n",
    "\n",
    "fig, ax = plt.subplots(nrows=1, ncols=1, figsize=(10,5))\n",
    "ax.plot(loss, label='Training')\n",
    "ax.plot(validation_loss, label='Test')\n",
    "ax.set_xlabel(\"Epoch\")\n",
    "ax.set_ylabel(\"Loss\")\n",
    "ax.legend(frameon=False)\n",
    "\n",
    "plt.show()"
   ]
  },
  {
   "cell_type": "code",
   "execution_count": 11,
   "metadata": {},
   "outputs": [
    {
     "data": {
      "text/plain": [
       "<matplotlib.legend.Legend at 0x26f680a6d10>"
      ]
     },
     "execution_count": 11,
     "metadata": {},
     "output_type": "execute_result"
    },
    {
     "data": {
      "image/png": "[encoded data removed]",
      "text/plain": [
       "<Figure size 1000x500 with 1 Axes>"
      ]
     },
     "metadata": {},
     "output_type": "display_data"
    }
   ],
   "source": [
    "loss = model_cnn.history.history['loss']\n",
    "validation_loss = model_cnn.history.history['val_loss']\n",
    "\n",
    "fig, ax = plt.subplots(nrows=1, ncols=1, figsize=(10,5))\n",
    "ax.plot(loss, label='Training', marker='.')\n",
    "ax.plot(validation_loss, label='Test', marker='.')\n",
    "ax.set_xlabel(\"Epoch\")\n",
    "ax.set_ylabel(\"Loss\")\n",
    "ax.legend(frameon=False)"
   ]
  },
  {
   "cell_type": "code",
   "execution_count": 16,
   "metadata": {},
   "outputs": [
    {
     "data": {
      "text/plain": [
       "<tensorflow.python.checkpoint.checkpoint.CheckpointLoadStatus at 0x2321933d690>"
      ]
     },
     "execution_count": 16,
     "metadata": {},
     "output_type": "execute_result"
    }
   ],
   "source": [
    "model_cnn.load_weights('Data/cnn_checkpoints/checkpoint_07')"
   ]
  },
  {
   "cell_type": "code",
   "execution_count": 41,
   "metadata": {},
   "outputs": [
    {
     "name": "stdout",
     "output_type": "stream",
     "text": [
      "47/47 [==============================] - 0s 4ms/step\n"
     ]
    }
   ],
   "source": [
    "test = model_cnn.predict(X_test)"
   ]
  },
  {
   "cell_type": "code",
   "execution_count": 44,
   "metadata": {},
   "outputs": [
    {
     "data": {
      "text/plain": [
       "<tensorflow.python.checkpoint.checkpoint.CheckpointLoadStatus at 0x232281a7e50>"
      ]
     },
     "execution_count": 44,
     "metadata": {},
     "output_type": "execute_result"
    }
   ],
   "source": [
    "model_cnn.load_weights('Data/cnn_checkpoints/checkpoint_11')"
   ]
  },
  {
   "cell_type": "code",
   "execution_count": 49,
   "metadata": {},
   "outputs": [
    {
     "name": "stdout",
     "output_type": "stream",
     "text": [
      "1/1 [==============================] - 0s 34ms/step\n"
     ]
    }
   ],
   "source": [
    "test = model_cnn.predict(np.array([X_test[0]]))"
   ]
  },
  {
   "cell_type": "code",
   "execution_count": 50,
   "metadata": {},
   "outputs": [
    {
     "data": {
      "text/plain": [
       "array([[1.0000000e+00, 2.8081387e-12]], dtype=float32)"
      ]
     },
     "execution_count": 50,
     "metadata": {},
     "output_type": "execute_result"
    }
   ],
   "source": [
    "test"
   ]
  },
  {
   "cell_type": "code",
   "execution_count": 42,
   "metadata": {},
   "outputs": [],
   "source": [
    "conv = keras.layers.Convolution1D(filters=32, kernel_size=5, padding=\"same\", activation=\"relu\", input_shape=(1, 1, 774))"
   ]
  },
  {
   "cell_type": "code",
   "execution_count": 43,
   "metadata": {},
   "outputs": [
    {
     "data": {
      "text/plain": [
       "[<matplotlib.lines.Line2D at 0x23e922a6a50>]"
      ]
     },
     "execution_count": 43,
     "metadata": {},
     "output_type": "execute_result"
    },
    {
     "data": {
      "image/png": "[encoded data removed]",
      "text/plain": [
       "<Figure size 640x480 with 1 Axes>"
      ]
     },
     "metadata": {},
     "output_type": "display_data"
    }
   ],
   "source": [
    "test = conv(X_train[300].reshape(1, 1, 774))\n",
    "plt.plot(np.arange(0, test.shape[2], 1), test[0][0])"
   ]
  },
  {
   "cell_type": "code",
   "execution_count": 31,
   "metadata": {},
   "outputs": [
    {
     "data": {
      "text/plain": [
       "[<matplotlib.lines.Line2D at 0x23e90372a50>]"
      ]
     },
     "execution_count": 31,
     "metadata": {},
     "output_type": "execute_result"
    },
    {
     "data": {
      "image/png": "[encoded data removed]",
      "text/plain": [
       "<Figure size 640x480 with 1 Axes>"
      ]
     },
     "metadata": {},
     "output_type": "display_data"
    }
   ],
   "source": [
    "plt.plot(np.arange(0, len(spectra[0]), 1), X_train[300])"
   ]
  },
  {
   "cell_type": "code",
   "execution_count": 55,
   "metadata": {},
   "outputs": [],
   "source": [
    "extractor = keras.Model(inputs=model_cnn.inputs,\n",
    "                        outputs=[layer.output for layer in model_cnn.layers])\n",
    "features = extractor(X_train)"
   ]
  }
 ],
 "metadata": {
  "kernelspec": {
   "display_name": "Python 3",
   "language": "python",
   "name": "python3"
  },
  "language_info": {
   "codemirror_mode": {
    "name": "ipython",
    "version": 3
   },
   "file_extension": ".py",
   "mimetype": "text/x-python",
   "name": "python",
   "nbconvert_exporter": "python",
   "pygments_lexer": "ipython3",
   "version": "3.11.8"
  }
 },
 "nbformat": 4,
 "nbformat_minor": 2
}
