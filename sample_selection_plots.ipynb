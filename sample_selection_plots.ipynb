{
 "cells": [
  {
   "cell_type": "code",
   "execution_count": 6,
   "metadata": {},
   "outputs": [],
   "source": [
    "import numpy as np\n",
    "import matplotlib.pyplot as plt\n",
    "import pandas as pd\n",
    "import seaborn as sns\n",
    "import plotly.express as px\n",
    "import plotly.io as pio\n",
    "\n",
    "pio.templates.default = 'plotly_white'\n",
    "sns.set_style('ticks')\n",
    "\n",
    "data_dir = 'C:/Users/ariel/Workspace/GASP/High-z/PSB Regions/Data/'\n",
    "highz_dir = 'C:/Users/ariel/Workspace/GASP/High-z/'\n",
    "plots_dir = 'C:/Users/ariel/Workspace/GASP/High-z/PSB regions/Plots/maps_and_centers/'\n",
    "\n",
    "sample = pd.read_csv(data_dir + 'galaxy_sample.csv')\n",
    "sample_all = pd.read_csv(data_dir + 'all_galaxy_sample.csv')\n",
    "properties_table = pd.read_csv(data_dir + 'sample_properties.csv')\n",
    "alessia_sample = pd.read_table(data_dir + 'sample_v2.dat', delim_whitespace=True)"
   ]
  },
  {
   "cell_type": "code",
   "execution_count": 3,
   "metadata": {},
   "outputs": [
    {
     "data": {
      "text/html": [
       "<div>\n",
       "<style scoped>\n",
       "    .dataframe tbody tr th:only-of-type {\n",
       "        vertical-align: middle;\n",
       "    }\n",
       "\n",
       "    .dataframe tbody tr th {\n",
       "        vertical-align: top;\n",
       "    }\n",
       "\n",
       "    .dataframe thead th {\n",
       "        text-align: right;\n",
       "    }\n",
       "</style>\n",
       "<table border=\"1\" class=\"dataframe\">\n",
       "  <thead>\n",
       "    <tr style=\"text-align: right;\">\n",
       "      <th></th>\n",
       "      <th>ID</th>\n",
       "      <th>RA</th>\n",
       "      <th>Dec</th>\n",
       "      <th>z</th>\n",
       "      <th>Category</th>\n",
       "      <th>Ha_in</th>\n",
       "      <th>n_spaxels</th>\n",
       "      <th>n_disk</th>\n",
       "      <th>n_spaxels_disk</th>\n",
       "      <th>flux_spaxels</th>\n",
       "      <th>...</th>\n",
       "      <th>sn_5635</th>\n",
       "      <th>sn_4050</th>\n",
       "      <th>bad_sinopsis</th>\n",
       "      <th>bad_contours</th>\n",
       "      <th>bad_gband</th>\n",
       "      <th>nad_notch</th>\n",
       "      <th>blended</th>\n",
       "      <th>mag_disk</th>\n",
       "      <th>sinopsis_fraction</th>\n",
       "      <th>sinopsis_fraction_flag</th>\n",
       "    </tr>\n",
       "  </thead>\n",
       "  <tbody>\n",
       "    <tr>\n",
       "      <th>0</th>\n",
       "      <td>A2744_01</td>\n",
       "      <td>00:14:19.754</td>\n",
       "      <td>-30:23:57.83</td>\n",
       "      <td>0.2919</td>\n",
       "      <td>Post-Starburst</td>\n",
       "      <td>True</td>\n",
       "      <td>740.0000</td>\n",
       "      <td>71.0000</td>\n",
       "      <td>51.0000</td>\n",
       "      <td>1547.526855</td>\n",
       "      <td>...</td>\n",
       "      <td>13.738193</td>\n",
       "      <td>18.361164</td>\n",
       "      <td>False</td>\n",
       "      <td>False</td>\n",
       "      <td>False</td>\n",
       "      <td>False</td>\n",
       "      <td>False</td>\n",
       "      <td>23.229854</td>\n",
       "      <td>0.718310</td>\n",
       "      <td>True</td>\n",
       "    </tr>\n",
       "    <tr>\n",
       "      <th>1</th>\n",
       "      <td>A2744_02</td>\n",
       "      <td>00:14:20.175</td>\n",
       "      <td>-30:23:56.77</td>\n",
       "      <td>0.3202</td>\n",
       "      <td>Post-Starburst</td>\n",
       "      <td>True</td>\n",
       "      <td>70.0000</td>\n",
       "      <td>91.0000</td>\n",
       "      <td>70.0000</td>\n",
       "      <td>389.447998</td>\n",
       "      <td>...</td>\n",
       "      <td>33.756298</td>\n",
       "      <td>18.062716</td>\n",
       "      <td>False</td>\n",
       "      <td>False</td>\n",
       "      <td>False</td>\n",
       "      <td>False</td>\n",
       "      <td>False</td>\n",
       "      <td>22.613687</td>\n",
       "      <td>0.769231</td>\n",
       "      <td>True</td>\n",
       "    </tr>\n",
       "    <tr>\n",
       "      <th>2</th>\n",
       "      <td>A2744_03</td>\n",
       "      <td>00:14:24.941</td>\n",
       "      <td>-30:23:46.45</td>\n",
       "      <td>0.3026</td>\n",
       "      <td>Jellyfish</td>\n",
       "      <td>True</td>\n",
       "      <td>47.0000</td>\n",
       "      <td>23.0000</td>\n",
       "      <td>23.0000</td>\n",
       "      <td>24.879517</td>\n",
       "      <td>...</td>\n",
       "      <td>0.604120</td>\n",
       "      <td>1.624264</td>\n",
       "      <td>False</td>\n",
       "      <td>False</td>\n",
       "      <td>False</td>\n",
       "      <td>False</td>\n",
       "      <td>False</td>\n",
       "      <td>26.002567</td>\n",
       "      <td>1.000000</td>\n",
       "      <td>True</td>\n",
       "    </tr>\n",
       "    <tr>\n",
       "      <th>3</th>\n",
       "      <td>A2744_04</td>\n",
       "      <td>00:14:21.4</td>\n",
       "      <td>-30:23:02.06</td>\n",
       "      <td>0.2941</td>\n",
       "      <td>Jellyfish</td>\n",
       "      <td>True</td>\n",
       "      <td>61.0000</td>\n",
       "      <td>15.0000</td>\n",
       "      <td>15.0000</td>\n",
       "      <td>39.636185</td>\n",
       "      <td>...</td>\n",
       "      <td>1.954461</td>\n",
       "      <td>2.996450</td>\n",
       "      <td>False</td>\n",
       "      <td>False</td>\n",
       "      <td>False</td>\n",
       "      <td>False</td>\n",
       "      <td>False</td>\n",
       "      <td>26.044448</td>\n",
       "      <td>1.000000</td>\n",
       "      <td>True</td>\n",
       "    </tr>\n",
       "    <tr>\n",
       "      <th>4</th>\n",
       "      <td>A2744_05</td>\n",
       "      <td>00:14:18.806</td>\n",
       "      <td>-30:23:13.48</td>\n",
       "      <td>0.3077</td>\n",
       "      <td>Post-Starburst</td>\n",
       "      <td>True</td>\n",
       "      <td>77.0000</td>\n",
       "      <td>108.0000</td>\n",
       "      <td>53.0000</td>\n",
       "      <td>493.210968</td>\n",
       "      <td>...</td>\n",
       "      <td>16.230629</td>\n",
       "      <td>17.095501</td>\n",
       "      <td>False</td>\n",
       "      <td>False</td>\n",
       "      <td>False</td>\n",
       "      <td>False</td>\n",
       "      <td>True</td>\n",
       "      <td>22.507407</td>\n",
       "      <td>0.490741</td>\n",
       "      <td>False</td>\n",
       "    </tr>\n",
       "    <tr>\n",
       "      <th>...</th>\n",
       "      <td>...</td>\n",
       "      <td>...</td>\n",
       "      <td>...</td>\n",
       "      <td>...</td>\n",
       "      <td>...</td>\n",
       "      <td>...</td>\n",
       "      <td>...</td>\n",
       "      <td>...</td>\n",
       "      <td>...</td>\n",
       "      <td>...</td>\n",
       "      <td>...</td>\n",
       "      <td>...</td>\n",
       "      <td>...</td>\n",
       "      <td>...</td>\n",
       "      <td>...</td>\n",
       "      <td>...</td>\n",
       "      <td>...</td>\n",
       "      <td>...</td>\n",
       "      <td>...</td>\n",
       "      <td>...</td>\n",
       "      <td>...</td>\n",
       "    </tr>\n",
       "    <tr>\n",
       "      <th>116</th>\n",
       "      <td>SMACS2131_03</td>\n",
       "      <td>21:31:06.0</td>\n",
       "      <td>-40:18:54.0</td>\n",
       "      <td>0.4558</td>\n",
       "      <td>Jellyfish</td>\n",
       "      <td>False</td>\n",
       "      <td>0.4558</td>\n",
       "      <td>0.4558</td>\n",
       "      <td>0.4558</td>\n",
       "      <td>0.455800</td>\n",
       "      <td>...</td>\n",
       "      <td>0.455800</td>\n",
       "      <td>0.455800</td>\n",
       "      <td>False</td>\n",
       "      <td>False</td>\n",
       "      <td>True</td>\n",
       "      <td>True</td>\n",
       "      <td>False</td>\n",
       "      <td>30.051172</td>\n",
       "      <td>1.000000</td>\n",
       "      <td>True</td>\n",
       "    </tr>\n",
       "    <tr>\n",
       "      <th>117</th>\n",
       "      <td>SMACS2131_04</td>\n",
       "      <td>21:31:06.2</td>\n",
       "      <td>-40:18:48.8</td>\n",
       "      <td>0.4352</td>\n",
       "      <td>Cluster Control</td>\n",
       "      <td>False</td>\n",
       "      <td>423.0000</td>\n",
       "      <td>95.0000</td>\n",
       "      <td>95.0000</td>\n",
       "      <td>669.890198</td>\n",
       "      <td>...</td>\n",
       "      <td>23.065008</td>\n",
       "      <td>1.273398</td>\n",
       "      <td>False</td>\n",
       "      <td>False</td>\n",
       "      <td>False</td>\n",
       "      <td>True</td>\n",
       "      <td>False</td>\n",
       "      <td>22.631949</td>\n",
       "      <td>1.000000</td>\n",
       "      <td>True</td>\n",
       "    </tr>\n",
       "    <tr>\n",
       "      <th>118</th>\n",
       "      <td>SMACS2131_05</td>\n",
       "      <td>21:31:03.0</td>\n",
       "      <td>-40:19:06.2</td>\n",
       "      <td>0.4590</td>\n",
       "      <td>Post-Starburst</td>\n",
       "      <td>False</td>\n",
       "      <td>38.0000</td>\n",
       "      <td>38.0000</td>\n",
       "      <td>35.0000</td>\n",
       "      <td>111.862823</td>\n",
       "      <td>...</td>\n",
       "      <td>20.241314</td>\n",
       "      <td>NaN</td>\n",
       "      <td>False</td>\n",
       "      <td>False</td>\n",
       "      <td>False</td>\n",
       "      <td>True</td>\n",
       "      <td>False</td>\n",
       "      <td>24.074253</td>\n",
       "      <td>0.921053</td>\n",
       "      <td>True</td>\n",
       "    </tr>\n",
       "    <tr>\n",
       "      <th>119</th>\n",
       "      <td>SMACS2131_06</td>\n",
       "      <td>21:31:03.0</td>\n",
       "      <td>-40:19:00.8</td>\n",
       "      <td>0.4447</td>\n",
       "      <td>Post-Starburst</td>\n",
       "      <td>False</td>\n",
       "      <td>43.0000</td>\n",
       "      <td>43.0000</td>\n",
       "      <td>31.0000</td>\n",
       "      <td>92.492493</td>\n",
       "      <td>...</td>\n",
       "      <td>15.477131</td>\n",
       "      <td>0.626019</td>\n",
       "      <td>False</td>\n",
       "      <td>False</td>\n",
       "      <td>False</td>\n",
       "      <td>True</td>\n",
       "      <td>True</td>\n",
       "      <td>24.275596</td>\n",
       "      <td>0.720930</td>\n",
       "      <td>True</td>\n",
       "    </tr>\n",
       "    <tr>\n",
       "      <th>120</th>\n",
       "      <td>SMACS2131_07</td>\n",
       "      <td>21:31:06.32</td>\n",
       "      <td>-40:19:04.6</td>\n",
       "      <td>0.4501</td>\n",
       "      <td>Cluster Control</td>\n",
       "      <td>False</td>\n",
       "      <td>248.0000</td>\n",
       "      <td>92.0000</td>\n",
       "      <td>91.0000</td>\n",
       "      <td>180.408386</td>\n",
       "      <td>...</td>\n",
       "      <td>13.479808</td>\n",
       "      <td>0.326944</td>\n",
       "      <td>False</td>\n",
       "      <td>False</td>\n",
       "      <td>False</td>\n",
       "      <td>True</td>\n",
       "      <td>False</td>\n",
       "      <td>23.991862</td>\n",
       "      <td>0.989130</td>\n",
       "      <td>True</td>\n",
       "    </tr>\n",
       "  </tbody>\n",
       "</table>\n",
       "<p>121 rows × 22 columns</p>\n",
       "</div>"
      ],
      "text/plain": [
       "               ID            RA           Dec       z         Category  Ha_in  \\\n",
       "0        A2744_01  00:14:19.754  -30:23:57.83  0.2919   Post-Starburst   True   \n",
       "1        A2744_02  00:14:20.175  -30:23:56.77  0.3202   Post-Starburst   True   \n",
       "2        A2744_03  00:14:24.941  -30:23:46.45  0.3026        Jellyfish   True   \n",
       "3        A2744_04    00:14:21.4  -30:23:02.06  0.2941        Jellyfish   True   \n",
       "4        A2744_05  00:14:18.806  -30:23:13.48  0.3077   Post-Starburst   True   \n",
       "..            ...           ...           ...     ...              ...    ...   \n",
       "116  SMACS2131_03    21:31:06.0   -40:18:54.0  0.4558        Jellyfish  False   \n",
       "117  SMACS2131_04    21:31:06.2   -40:18:48.8  0.4352  Cluster Control  False   \n",
       "118  SMACS2131_05    21:31:03.0   -40:19:06.2  0.4590   Post-Starburst  False   \n",
       "119  SMACS2131_06    21:31:03.0   -40:19:00.8  0.4447   Post-Starburst  False   \n",
       "120  SMACS2131_07   21:31:06.32   -40:19:04.6  0.4501  Cluster Control  False   \n",
       "\n",
       "     n_spaxels    n_disk  n_spaxels_disk  flux_spaxels  ...    sn_5635  \\\n",
       "0     740.0000   71.0000         51.0000   1547.526855  ...  13.738193   \n",
       "1      70.0000   91.0000         70.0000    389.447998  ...  33.756298   \n",
       "2      47.0000   23.0000         23.0000     24.879517  ...   0.604120   \n",
       "3      61.0000   15.0000         15.0000     39.636185  ...   1.954461   \n",
       "4      77.0000  108.0000         53.0000    493.210968  ...  16.230629   \n",
       "..         ...       ...             ...           ...  ...        ...   \n",
       "116     0.4558    0.4558          0.4558      0.455800  ...   0.455800   \n",
       "117   423.0000   95.0000         95.0000    669.890198  ...  23.065008   \n",
       "118    38.0000   38.0000         35.0000    111.862823  ...  20.241314   \n",
       "119    43.0000   43.0000         31.0000     92.492493  ...  15.477131   \n",
       "120   248.0000   92.0000         91.0000    180.408386  ...  13.479808   \n",
       "\n",
       "       sn_4050  bad_sinopsis  bad_contours  bad_gband  nad_notch  blended  \\\n",
       "0    18.361164         False         False      False      False    False   \n",
       "1    18.062716         False         False      False      False    False   \n",
       "2     1.624264         False         False      False      False    False   \n",
       "3     2.996450         False         False      False      False    False   \n",
       "4    17.095501         False         False      False      False     True   \n",
       "..         ...           ...           ...        ...        ...      ...   \n",
       "116   0.455800         False         False       True       True    False   \n",
       "117   1.273398         False         False      False       True    False   \n",
       "118        NaN         False         False      False       True    False   \n",
       "119   0.626019         False         False      False       True     True   \n",
       "120   0.326944         False         False      False       True    False   \n",
       "\n",
       "      mag_disk  sinopsis_fraction  sinopsis_fraction_flag  \n",
       "0    23.229854           0.718310                    True  \n",
       "1    22.613687           0.769231                    True  \n",
       "2    26.002567           1.000000                    True  \n",
       "3    26.044448           1.000000                    True  \n",
       "4    22.507407           0.490741                   False  \n",
       "..         ...                ...                     ...  \n",
       "116  30.051172           1.000000                    True  \n",
       "117  22.631949           1.000000                    True  \n",
       "118  24.074253           0.921053                    True  \n",
       "119  24.275596           0.720930                    True  \n",
       "120  23.991862           0.989130                    True  \n",
       "\n",
       "[121 rows x 22 columns]"
      ]
     },
     "execution_count": 3,
     "metadata": {},
     "output_type": "execute_result"
    }
   ],
   "source": [
    "sample_all"
   ]
  },
  {
   "cell_type": "code",
   "execution_count": 3,
   "metadata": {},
   "outputs": [
    {
     "data": {
      "text/plain": [
       "Index(['ID', 'RA', 'Dec', 'z', 'Category', 'Ha_in', 'n_spaxels', 'n_disk',\n",
       "       'n_spaxels_disk', 'flux_spaxels', 'flux_disk', 'flux_spaxels_disk',\n",
       "       'sn_5635', 'sn_4050', 'bad_sinopsis', 'bad_contours', 'bad_gband',\n",
       "       'nad_notch', 'mag_disk', 'sinopsis_fraction', 'sinopsis_fraction_flag'],\n",
       "      dtype='object')"
      ]
     },
     "execution_count": 3,
     "metadata": {},
     "output_type": "execute_result"
    }
   ],
   "source": [
    "sample_all.keys()"
   ]
  },
  {
   "cell_type": "code",
   "execution_count": 4,
   "metadata": {},
   "outputs": [
    {
     "name": "stdout",
     "output_type": "stream",
     "text": [
      "Category\n",
      "Jellyfish          29\n",
      "Cluster Control    28\n",
      "Post-Starburst     27\n",
      "Field Control      15\n",
      "Quiescent          14\n",
      "Truncated Disk      6\n",
      "Pending             2\n",
      "Name: count, dtype: int64\n",
      "Category\n",
      "Jellyfish          21\n",
      "Cluster Control    20\n",
      "Post-Starburst     18\n",
      "Quiescent          12\n",
      "Truncated Disk      6\n",
      "Field Control       4\n",
      "Name: count, dtype: int64\n"
     ]
    }
   ],
   "source": [
    "print(sample_all['Category'].value_counts())\n",
    "print(sample['Category'].value_counts())"
   ]
  },
  {
   "cell_type": "code",
   "execution_count": 9,
   "metadata": {},
   "outputs": [
    {
     "name": "stdout",
     "output_type": "stream",
     "text": [
      "2          A2744_03\n",
      "3          A2744_04\n",
      "5          A2744_06\n",
      "8          A2744_09\n",
      "9          A2744_10\n",
      "13         A2744_14\n",
      "15         A2744_16\n",
      "31          A370_01\n",
      "32          A370_02\n",
      "33          A370_03\n",
      "36          A370_06\n",
      "37          A370_07\n",
      "38          A370_08\n",
      "39          A370_09\n",
      "47          A370_17\n",
      "58      AS1063NE_06\n",
      "66      MACS0257_02\n",
      "73     MACS0416S_02\n",
      "74      MACS0940_01\n",
      "75      MACS0940_02\n",
      "81      MACS1206_01\n",
      "83      MACS1206_03\n",
      "88      MACS1206_08\n",
      "90      MACS1206_10\n",
      "101     MACS1206_21\n",
      "102     MACS1206_22\n",
      "111    SMACS2031_01\n",
      "114    SMACS2131_01\n",
      "116    SMACS2131_03\n",
      "Name: ID, dtype: object\n"
     ]
    }
   ],
   "source": [
    "print(sample_all['ID'][sample_all['Category']=='Jellyfish'])"
   ]
  },
  {
   "cell_type": "code",
   "execution_count": 7,
   "metadata": {},
   "outputs": [
    {
     "data": {
      "text/plain": [
       "11"
      ]
     },
     "execution_count": 7,
     "metadata": {},
     "output_type": "execute_result"
    }
   ],
   "source": [
    "(sample_all['Ha_in'] & ~sample_all['sinopsis_fraction_flag']).sum()"
   ]
  },
  {
   "cell_type": "code",
   "execution_count": 8,
   "metadata": {},
   "outputs": [
    {
     "data": {
      "application/vnd.plotly.v1+json": {
       "config": {
        "plotlyServerURL": "https://plot.ly"
       },
       "data": [
        {
         "customdata": [
          [
           "A2744_01",
           "Post-Starburst"
          ],
          [
           "A2744_02",
           "Post-Starburst"
          ],
          [
           "A2744_03",
           "Jellyfish"
          ],
          [
           "A2744_04",
           "Jellyfish"
          ],
          [
           "A2744_06",
           "Jellyfish"
          ],
          [
           "A2744_07",
           "Post-Starburst"
          ],
          [
           "A2744_09",
           "Jellyfish"
          ],
          [
           "A2744_10",
           "Jellyfish"
          ],
          [
           "A2744_11",
           "Quiescent"
          ],
          [
           "A2744_12",
           "Quiescent"
          ],
          [
           "A2744_13",
           "Quiescent"
          ],
          [
           "A2744_14",
           "Jellyfish"
          ],
          [
           "A2744_15",
           "Quiescent"
          ],
          [
           "A2744_16",
           "Jellyfish"
          ],
          [
           "A2744_18",
           "Quiescent"
          ],
          [
           "A2744_19",
           "Quiescent"
          ],
          [
           "A2744_20",
           "Quiescent"
          ],
          [
           "A2744_21",
           "Cluster Control"
          ],
          [
           "A2744_22",
           "Cluster Control"
          ],
          [
           "A2744_23",
           "Cluster Control"
          ],
          [
           "A2744_24",
           "Field Control"
          ],
          [
           "A2744_25",
           "Field Control"
          ],
          [
           "A2744_26",
           "Field Control"
          ],
          [
           "A2744_27",
           "Field Control"
          ],
          [
           "A2744_28",
           "Field Control"
          ],
          [
           "A2744_30",
           "Field Control"
          ],
          [
           "A2744_31",
           "Field Control"
          ],
          [
           "A370_01",
           "Jellyfish"
          ],
          [
           "A370_02",
           "Jellyfish"
          ],
          [
           "A370_03",
           "Jellyfish"
          ],
          [
           "A370_05",
           "Post-Starburst"
          ],
          [
           "A370_06",
           "Jellyfish"
          ],
          [
           "A370_07",
           "Jellyfish"
          ],
          [
           "A370_08",
           "Jellyfish"
          ],
          [
           "A370_09",
           "Jellyfish"
          ],
          [
           "A370_10",
           "Cluster Control"
          ],
          [
           "A370_11",
           "Cluster Control"
          ],
          [
           "A370_12",
           "Cluster Control"
          ],
          [
           "A370_15",
           "Cluster Control"
          ],
          [
           "A370_16",
           "Quiescent"
          ],
          [
           "A370_17",
           "Jellyfish"
          ],
          [
           "A370_18",
           "Cluster Control"
          ],
          [
           "A370_19",
           "Quiescent"
          ],
          [
           "A370_20",
           "Quiescent"
          ],
          [
           "A370_21",
           "Quiescent"
          ],
          [
           "A370_22",
           "Quiescent"
          ],
          [
           "A370_23",
           "Field Control"
          ],
          [
           "A370_24",
           "Pending"
          ],
          [
           "AS1063NE_01",
           "Post-Starburst"
          ],
          [
           "AS1063NE_02",
           "Post-Starburst"
          ],
          [
           "AS1063NE_05",
           "Cluster Control"
          ],
          [
           "AS1063NE_06",
           "Jellyfish"
          ],
          [
           "AS1063NE_07",
           "Pending"
          ],
          [
           "AS1063NE_08",
           "Cluster Control"
          ],
          [
           "AS1063SW_01",
           "Post-Starburst"
          ],
          [
           "AS1063SW_02",
           "Truncated Disk"
          ],
          [
           "AS1063SW_03",
           "Cluster Control"
          ],
          [
           "AS1063SW_04",
           "Truncated Disk"
          ],
          [
           "MACS0257_01",
           "Post-Starburst"
          ],
          [
           "MACS0257_03",
           "Post-Starburst"
          ],
          [
           "MACS0257_04",
           "Post-Starburst"
          ],
          [
           "MACS0416N_01",
           "Truncated Disk"
          ],
          [
           "MACS0416N_02",
           "Field Control"
          ],
          [
           "MACS0416S_01",
           "Pending"
          ],
          [
           "MACS0416S_02",
           "Jellyfish"
          ],
          [
           "MACS0940_01",
           "Jellyfish"
          ],
          [
           "MACS0940_03",
           "Truncated Disk"
          ],
          [
           "MACS0940_04",
           "Cluster Control"
          ],
          [
           "MACS0940_05",
           "Cluster Control"
          ],
          [
           "MACS0940_06",
           "Field Control"
          ],
          [
           "MACS0940_07",
           "Cluster Control"
          ],
          [
           "MACS1206_02",
           "Cluster Control"
          ],
          [
           "MACS1206_03",
           "Jellyfish"
          ],
          [
           "MACS1206_04",
           "Cluster Control"
          ],
          [
           "MACS1206_05",
           "Cluster Control"
          ],
          [
           "MACS1206_06",
           "Post-Starburst"
          ],
          [
           "MACS1206_07",
           "Truncated Disk"
          ],
          [
           "MACS1206_08",
           "Jellyfish"
          ],
          [
           "MACS1206_09",
           "Post-Starburst"
          ],
          [
           "MACS1206_10",
           "Jellyfish"
          ],
          [
           "MACS1206_11",
           "Post-Starburst"
          ],
          [
           "MACS1206_12",
           "Cluster Control"
          ],
          [
           "MACS1206_14",
           "Cluster Control"
          ],
          [
           "MACS1206_15",
           "Cluster Control"
          ],
          [
           "MACS1206_16",
           "Post-Starburst"
          ],
          [
           "MACS1206_17",
           "Cluster Control"
          ],
          [
           "MACS1206_18",
           "Post-Starburst"
          ],
          [
           "MACS1206_19",
           "Post-Starburst"
          ],
          [
           "MACS1206_21",
           "Jellyfish"
          ],
          [
           "MACS1206_22",
           "Jellyfish"
          ],
          [
           "MACS1206_23",
           "Field Control"
          ],
          [
           "RXJ1347_01",
           "Cluster Control"
          ],
          [
           "RXJ1347_02",
           "Post-Starburst"
          ],
          [
           "RXJ1347_04",
           "Cluster Control"
          ],
          [
           "RXJ1347_05",
           "Field Control"
          ],
          [
           "RXJ1347_06",
           "Field Control"
          ],
          [
           "RXJ1347_07",
           "Field Control"
          ],
          [
           "SMACS2031_01",
           "Jellyfish"
          ],
          [
           "SMACS2031_02",
           "Post-Starburst"
          ],
          [
           "SMACS2031_03",
           "Cluster Control"
          ],
          [
           "SMACS2131_01",
           "Jellyfish"
          ],
          [
           "SMACS2131_02",
           "Cluster Control"
          ],
          [
           "SMACS2131_03",
           "Jellyfish"
          ],
          [
           "SMACS2131_04",
           "Cluster Control"
          ],
          [
           "SMACS2131_05",
           "Post-Starburst"
          ],
          [
           "SMACS2131_06",
           "Post-Starburst"
          ],
          [
           "SMACS2131_07",
           "Cluster Control"
          ]
         ],
         "hovertemplate": "sinopsis_fraction_flag=True<br>mag_disk=%{x}<br>sn_5635=%{y}<br>n_spaxels_disk=%{marker.size}<br>ID=%{customdata[0]}<br>Category=%{customdata[1]}<extra></extra>",
         "legendgroup": "True",
         "marker": {
          "color": "#636efa",
          "size": [
           51,
           70,
           23,
           15,
           292,
           218,
           311,
           120,
           42,
           27,
           129,
           83,
           113,
           98,
           50,
           101,
           206,
           107,
           76,
           136,
           318,
           313,
           87,
           76,
           45,
           38,
           21,
           438,
           74,
           117,
           86,
           177,
           103,
           192,
           226,
           65,
           42,
           37,
           51,
           35,
           50,
           25,
           67,
           22,
           57,
           47,
           79,
           19,
           186,
           71,
           45,
           52,
           65,
           31,
           109,
           305,
           126,
           237,
           41,
           66,
           50,
           112,
           116,
           16,
           138,
           43,
           181,
           224,
           149,
           28,
           46,
           128,
           70,
           21,
           193,
           296,
           411,
           312,
           176,
           32,
           138,
           79,
           81,
           222,
           34,
           151,
           38,
           18,
           122,
           65,
           60,
           913,
           122,
           49,
           76,
           58,
           75,
           221,
           132,
           15,
           648,
           16,
           0.4558,
           95,
           35,
           31,
           91
          ],
          "sizemode": "area",
          "sizeref": 2.2825,
          "symbol": "circle"
         },
         "mode": "markers",
         "name": "True",
         "orientation": "v",
         "showlegend": true,
         "type": "scatter",
         "x": [
          23.229854430930263,
          22.613686771887632,
          26.002566534495624,
          26.044447706755424,
          20.90506753336519,
          21.213684397847427,
          20.950323971972967,
          22.53472845992046,
          23.697559750405752,
          24.3411712265584,
          22.18342360216741,
          22.78192274849552,
          22.758216464763144,
          22.60356145670924,
          24.18133543879357,
          23.50101771016668,
          22.208086402565527,
          21.621520312991827,
          22.525716950366014,
          22.725044917948853,
          20.87259881552776,
          21.476927870541207,
          23.46065397936084,
          23.49526413157648,
          25.197210058479666,
          25.27497920747824,
          26.150723534746213,
          20.503054172214995,
          23.332175722495748,
          22.0149763964683,
          22.46363968646554,
          21.4407060618637,
          22.77277999145149,
          21.889341831494203,
          22.062913345235387,
          23.79747965656225,
          24.331972849477545,
          24.725814783886413,
          24.165679912135047,
          24.66788374450672,
          24.421530754323847,
          24.7217695927502,
          23.321165694101754,
          24.81019039215056,
          23.56998270392461,
          23.29894751097129,
          23.2955986696207,
          25.18830622124513,
          21.429465689764665,
          22.92440371445331,
          24.4272142305718,
          24.5325080054992,
          23.95731117957895,
          24.99149379857492,
          22.206395892078227,
          20.8628655908008,
          22.057930101375103,
          20.956060832867045,
          23.874047381533902,
          22.99877526203023,
          23.88842813492179,
          22.763123848944023,
          23.21148513357996,
          25.15617675835,
          22.2251083707284,
          24.10720716375755,
          22.412964733238567,
          21.92335854526953,
          22.22950913005066,
          25.597897621351017,
          24.07333344089405,
          21.99320604330594,
          23.24167778510642,
          24.92090804673993,
          21.956056756944907,
          21.66167125000488,
          20.947305761422182,
          21.79922622171999,
          22.306629753701277,
          25.00873996513763,
          21.95021418761954,
          23.6410752447423,
          23.058896509472685,
          21.95045260847186,
          23.596454169166865,
          22.01181047447361,
          24.190368834735796,
          24.802503761826507,
          22.894864615576196,
          23.20278541470686,
          23.191800936533923,
          20.29726400918044,
          21.955333668807576,
          23.79890444139208,
          23.53117719721872,
          24.17159776062816,
          23.871193506088847,
          21.39706438677253,
          22.19537304991689,
          24.98288677971239,
          20.47071098221072,
          24.87288356548873,
          30.05117175794186,
          22.63194907909916,
          24.07425257473594,
          24.275595562905792,
          23.991862093221176
         ],
         "xaxis": "x",
         "y": [
          13.738192558288574,
          33.75629806518555,
          0.6041200160980225,
          1.9544605016708372,
          30.26233291625977,
          25.008581161499023,
          32.92027282714844,
          17.837833404541016,
          9.28604507446289,
          8.412384986877441,
          20.572324752807617,
          22.6436824798584,
          22.02712059020996,
          19.15081214904785,
          4.9242353439331055,
          17.711660385131836,
          21.092060089111328,
          41.185184478759766,
          27.682785034179688,
          22.75216293334961,
          39.485877990722656,
          25.91926002502441,
          16.00847625732422,
          12.251776695251465,
          3.13281798362732,
          1.6597448587417605,
          2.237246513366699,
          14.237703323364258,
          8.739027976989746,
          28.92301750183105,
          27.49480628967285,
          28.51812171936035,
          28.42010498046875,
          33.06184768676758,
          23.76336669921875,
          4.152191162109375,
          8.174406051635742,
          2.9726858139038086,
          9.694040298461914,
          3.338690280914306,
          5.0606794357299805,
          5.0673017501831055,
          12.028694152832031,
          13.897287368774414,
          20.054197311401367,
          21.537860870361328,
          8.53891372680664,
          6.648326873779297,
          31.436304092407227,
          15.873002052307127,
          4.259692668914795,
          3.1357829570770264,
          5.943170547485352,
          5.262795925140381,
          19.67965507507324,
          32.35730743408203,
          22.792213439941406,
          34.84573745727539,
          9.039612770080566,
          38.374122619628906,
          29.05655670166016,
          15.841532707214355,
          8.908442497253418,
          12.81860637664795,
          10.12421417236328,
          4.25211238861084,
          11.22797966003418,
          16.25133514404297,
          21.15975570678711,
          2.099092960357666,
          4.160495758056641,
          34.11659622192383,
          5.8051862716674805,
          7.924498558044434,
          19.545398712158203,
          25.344953536987305,
          50.19449615478516,
          28.76146507263184,
          26.23624992370605,
          4.0561041831970215,
          34.569664001464844,
          8.568943977355957,
          9.526012420654297,
          36.69240188598633,
          11.946226119995115,
          21.41313743591309,
          10.58067798614502,
          11.69760036468506,
          14.09516716003418,
          13.13132095336914,
          12.854813575744627,
          42.34510040283203,
          24.002180099487305,
          10.193963050842283,
          11.859314918518066,
          5.2840657234191895,
          6.405677795410156,
          28.96656990051269,
          35.34073638916016,
          9.657866477966309,
          69.84213256835938,
          21.76056671142578,
          0.4558,
          23.06500816345215,
          20.24131393432617,
          15.477130889892578,
          13.47980785369873
         ],
         "yaxis": "y"
        },
        {
         "alignmentgroup": "True",
         "bingroup": "x",
         "hovertemplate": "sinopsis_fraction_flag=True<br>mag_disk=%{x}<br>count=%{y}<extra></extra>",
         "legendgroup": "True",
         "marker": {
          "color": "#636efa"
         },
         "name": "True",
         "offsetgroup": "True",
         "opacity": 0.5,
         "showlegend": false,
         "type": "histogram",
         "x": [
          23.229854430930263,
          22.613686771887632,
          26.002566534495624,
          26.044447706755424,
          20.90506753336519,
          21.213684397847427,
          20.950323971972967,
          22.53472845992046,
          23.697559750405752,
          24.3411712265584,
          22.18342360216741,
          22.78192274849552,
          22.758216464763144,
          22.60356145670924,
          24.18133543879357,
          23.50101771016668,
          22.208086402565527,
          21.621520312991827,
          22.525716950366014,
          22.725044917948853,
          20.87259881552776,
          21.476927870541207,
          23.46065397936084,
          23.49526413157648,
          25.197210058479666,
          25.27497920747824,
          26.150723534746213,
          20.503054172214995,
          23.332175722495748,
          22.0149763964683,
          22.46363968646554,
          21.4407060618637,
          22.77277999145149,
          21.889341831494203,
          22.062913345235387,
          23.79747965656225,
          24.331972849477545,
          24.725814783886413,
          24.165679912135047,
          24.66788374450672,
          24.421530754323847,
          24.7217695927502,
          23.321165694101754,
          24.81019039215056,
          23.56998270392461,
          23.29894751097129,
          23.2955986696207,
          25.18830622124513,
          21.429465689764665,
          22.92440371445331,
          24.4272142305718,
          24.5325080054992,
          23.95731117957895,
          24.99149379857492,
          22.206395892078227,
          20.8628655908008,
          22.057930101375103,
          20.956060832867045,
          23.874047381533902,
          22.99877526203023,
          23.88842813492179,
          22.763123848944023,
          23.21148513357996,
          25.15617675835,
          22.2251083707284,
          24.10720716375755,
          22.412964733238567,
          21.92335854526953,
          22.22950913005066,
          25.597897621351017,
          24.07333344089405,
          21.99320604330594,
          23.24167778510642,
          24.92090804673993,
          21.956056756944907,
          21.66167125000488,
          20.947305761422182,
          21.79922622171999,
          22.306629753701277,
          25.00873996513763,
          21.95021418761954,
          23.6410752447423,
          23.058896509472685,
          21.95045260847186,
          23.596454169166865,
          22.01181047447361,
          24.190368834735796,
          24.802503761826507,
          22.894864615576196,
          23.20278541470686,
          23.191800936533923,
          20.29726400918044,
          21.955333668807576,
          23.79890444139208,
          23.53117719721872,
          24.17159776062816,
          23.871193506088847,
          21.39706438677253,
          22.19537304991689,
          24.98288677971239,
          20.47071098221072,
          24.87288356548873,
          30.05117175794186,
          22.63194907909916,
          24.07425257473594,
          24.275595562905792,
          23.991862093221176
         ],
         "xaxis": "x3",
         "yaxis": "y3"
        },
        {
         "alignmentgroup": "True",
         "bingroup": "y",
         "hovertemplate": "sinopsis_fraction_flag=True<br>sn_5635=%{y}<br>count=%{x}<extra></extra>",
         "legendgroup": "True",
         "marker": {
          "color": "#636efa"
         },
         "name": "True",
         "offsetgroup": "True",
         "opacity": 0.5,
         "showlegend": false,
         "type": "histogram",
         "xaxis": "x2",
         "y": [
          13.738192558288574,
          33.75629806518555,
          0.6041200160980225,
          1.9544605016708372,
          30.26233291625977,
          25.008581161499023,
          32.92027282714844,
          17.837833404541016,
          9.28604507446289,
          8.412384986877441,
          20.572324752807617,
          22.6436824798584,
          22.02712059020996,
          19.15081214904785,
          4.9242353439331055,
          17.711660385131836,
          21.092060089111328,
          41.185184478759766,
          27.682785034179688,
          22.75216293334961,
          39.485877990722656,
          25.91926002502441,
          16.00847625732422,
          12.251776695251465,
          3.13281798362732,
          1.6597448587417605,
          2.237246513366699,
          14.237703323364258,
          8.739027976989746,
          28.92301750183105,
          27.49480628967285,
          28.51812171936035,
          28.42010498046875,
          33.06184768676758,
          23.76336669921875,
          4.152191162109375,
          8.174406051635742,
          2.9726858139038086,
          9.694040298461914,
          3.338690280914306,
          5.0606794357299805,
          5.0673017501831055,
          12.028694152832031,
          13.897287368774414,
          20.054197311401367,
          21.537860870361328,
          8.53891372680664,
          6.648326873779297,
          31.436304092407227,
          15.873002052307127,
          4.259692668914795,
          3.1357829570770264,
          5.943170547485352,
          5.262795925140381,
          19.67965507507324,
          32.35730743408203,
          22.792213439941406,
          34.84573745727539,
          9.039612770080566,
          38.374122619628906,
          29.05655670166016,
          15.841532707214355,
          8.908442497253418,
          12.81860637664795,
          10.12421417236328,
          4.25211238861084,
          11.22797966003418,
          16.25133514404297,
          21.15975570678711,
          2.099092960357666,
          4.160495758056641,
          34.11659622192383,
          5.8051862716674805,
          7.924498558044434,
          19.545398712158203,
          25.344953536987305,
          50.19449615478516,
          28.76146507263184,
          26.23624992370605,
          4.0561041831970215,
          34.569664001464844,
          8.568943977355957,
          9.526012420654297,
          36.69240188598633,
          11.946226119995115,
          21.41313743591309,
          10.58067798614502,
          11.69760036468506,
          14.09516716003418,
          13.13132095336914,
          12.854813575744627,
          42.34510040283203,
          24.002180099487305,
          10.193963050842283,
          11.859314918518066,
          5.2840657234191895,
          6.405677795410156,
          28.96656990051269,
          35.34073638916016,
          9.657866477966309,
          69.84213256835938,
          21.76056671142578,
          0.4558,
          23.06500816345215,
          20.24131393432617,
          15.477130889892578,
          13.47980785369873
         ],
         "yaxis": "y2"
        },
        {
         "customdata": [
          [
           "A2744_05",
           "Post-Starburst"
          ],
          [
           "A2744_08",
           "Post-Starburst"
          ],
          [
           "A2744_17",
           "Quiescent"
          ],
          [
           "A2744_29",
           "Field Control"
          ],
          [
           "A370_04",
           "Post-Starburst"
          ],
          [
           "A370_13",
           "Cluster Control"
          ],
          [
           "A370_14",
           "Quiescent"
          ],
          [
           "MACS0257_02",
           "Jellyfish"
          ],
          [
           "MACS0257_05",
           "Post-Starburst"
          ],
          [
           "MACS0940_02",
           "Jellyfish"
          ],
          [
           "MACS1206_01",
           "Pending"
          ],
          [
           "MACS1206_13",
           "Post-Starburst"
          ],
          [
           "MACS1206_20",
           "Post-Starburst"
          ],
          [
           "RXJ1347_03",
           "Post-Starburst"
          ]
         ],
         "hovertemplate": "sinopsis_fraction_flag=False<br>mag_disk=%{x}<br>sn_5635=%{y}<br>n_spaxels_disk=%{marker.size}<br>ID=%{customdata[0]}<br>Category=%{customdata[1]}<extra></extra>",
         "legendgroup": "False",
         "marker": {
          "color": "#EF553B",
          "size": [
           53,
           41,
           0,
           26,
           70,
           19,
           37,
           0,
           0,
           3,
           50,
           45,
           20,
           29
          ],
          "sizemode": "area",
          "sizeref": 2.2825,
          "symbol": "circle"
         },
         "mode": "markers",
         "name": "False",
         "orientation": "v",
         "showlegend": true,
         "type": "scatter",
         "x": [
          22.50740711226777,
          23.437125960447972,
          24.494917337683688,
          23.67768793781479,
          22.638196096032136,
          24.074807297725435,
          23.653505254646937,
          29.419473343887187,
          23.409322939303824,
          25.34946350054544,
          23.105660202615333,
          22.994212225226093,
          24.24506856412333,
          24.142023699506787
         ],
         "xaxis": "x",
         "y": [
          16.230628967285156,
          14.048187255859377,
          5.139755725860596,
          9.703083038330078,
          19.774803161621094,
          13.752083778381348,
          19.38539695739746,
          0.3772376179695129,
          10.603371620178224,
          4.644036293029785,
          8.470778465270996,
          12.466100692749023,
          8.313060760498047,
          9.940133094787598
         ],
         "yaxis": "y"
        },
        {
         "alignmentgroup": "True",
         "bingroup": "x",
         "hovertemplate": "sinopsis_fraction_flag=False<br>mag_disk=%{x}<br>count=%{y}<extra></extra>",
         "legendgroup": "False",
         "marker": {
          "color": "#EF553B"
         },
         "name": "False",
         "offsetgroup": "False",
         "opacity": 0.5,
         "showlegend": false,
         "type": "histogram",
         "x": [
          22.50740711226777,
          23.437125960447972,
          24.494917337683688,
          23.67768793781479,
          22.638196096032136,
          24.074807297725435,
          23.653505254646937,
          29.419473343887187,
          23.409322939303824,
          25.34946350054544,
          23.105660202615333,
          22.994212225226093,
          24.24506856412333,
          24.142023699506787
         ],
         "xaxis": "x3",
         "yaxis": "y3"
        },
        {
         "alignmentgroup": "True",
         "bingroup": "y",
         "hovertemplate": "sinopsis_fraction_flag=False<br>sn_5635=%{y}<br>count=%{x}<extra></extra>",
         "legendgroup": "False",
         "marker": {
          "color": "#EF553B"
         },
         "name": "False",
         "offsetgroup": "False",
         "opacity": 0.5,
         "showlegend": false,
         "type": "histogram",
         "xaxis": "x2",
         "y": [
          16.230628967285156,
          14.048187255859377,
          5.139755725860596,
          9.703083038330078,
          19.774803161621094,
          13.752083778381348,
          19.38539695739746,
          0.3772376179695129,
          10.603371620178224,
          4.644036293029785,
          8.470778465270996,
          12.466100692749023,
          8.313060760498047,
          9.940133094787598
         ],
         "yaxis": "y2"
        }
       ],
       "layout": {
        "annotations": [
         {
          "showarrow": false,
          "text": "S/N=10",
          "x": 1,
          "xanchor": "right",
          "xref": "x domain",
          "y": 10,
          "yanchor": "bottom",
          "yref": "y"
         },
         {
          "showarrow": false,
          "text": "S/N=10",
          "x": 1,
          "xanchor": "right",
          "xref": "x2 domain",
          "y": 10,
          "yanchor": "bottom",
          "yref": "y2"
         },
         {
          "showarrow": false,
          "text": "S/N=5",
          "x": 1,
          "xanchor": "right",
          "xref": "x domain",
          "y": 5,
          "yanchor": "bottom",
          "yref": "y"
         },
         {
          "showarrow": false,
          "text": "S/N=5",
          "x": 1,
          "xanchor": "right",
          "xref": "x2 domain",
          "y": 5,
          "yanchor": "bottom",
          "yref": "y2"
         },
         {
          "showarrow": false,
          "text": "Excluded",
          "x": 25,
          "xanchor": "left",
          "xref": "x",
          "y": 1,
          "yanchor": "top",
          "yref": "y domain"
         },
         {
          "showarrow": false,
          "text": "Excluded",
          "x": 25,
          "xanchor": "left",
          "xref": "x3",
          "y": 1,
          "yanchor": "top",
          "yref": "y3 domain"
         }
        ],
        "barmode": "overlay",
        "height": 600,
        "legend": {
         "itemsizing": "constant",
         "title": {
          "text": "sinopsis_fraction_flag"
         },
         "tracegroupgap": 0
        },
        "margin": {
         "t": 60
        },
        "shapes": [
         {
          "line": {
           "dash": "dash"
          },
          "type": "line",
          "x0": 0,
          "x1": 1,
          "xref": "x domain",
          "y0": 10,
          "y1": 10,
          "yref": "y"
         },
         {
          "line": {
           "dash": "dash"
          },
          "type": "line",
          "x0": 0,
          "x1": 1,
          "xref": "x2 domain",
          "y0": 10,
          "y1": 10,
          "yref": "y2"
         },
         {
          "line": {
           "dash": "dash"
          },
          "type": "line",
          "x0": 0,
          "x1": 1,
          "xref": "x domain",
          "y0": 5,
          "y1": 5,
          "yref": "y"
         },
         {
          "line": {
           "dash": "dash"
          },
          "type": "line",
          "x0": 0,
          "x1": 1,
          "xref": "x2 domain",
          "y0": 5,
          "y1": 5,
          "yref": "y2"
         },
         {
          "fillcolor": "green",
          "line": {
           "width": 0
          },
          "opacity": 0.25,
          "type": "rect",
          "x0": 25,
          "x1": 30,
          "xref": "x",
          "y0": 0,
          "y1": 1,
          "yref": "y domain"
         },
         {
          "fillcolor": "green",
          "line": {
           "width": 0
          },
          "opacity": 0.25,
          "type": "rect",
          "x0": 25,
          "x1": 30,
          "xref": "x3",
          "y0": 0,
          "y1": 1,
          "yref": "y3 domain"
         }
        ],
        "template": {
         "data": {
          "bar": [
           {
            "error_x": {
             "color": "#2a3f5f"
            },
            "error_y": {
             "color": "#2a3f5f"
            },
            "marker": {
             "line": {
              "color": "white",
              "width": 0.5
             },
             "pattern": {
              "fillmode": "overlay",
              "size": 10,
              "solidity": 0.2
             }
            },
            "type": "bar"
           }
          ],
          "barpolar": [
           {
            "marker": {
             "line": {
              "color": "white",
              "width": 0.5
             },
             "pattern": {
              "fillmode": "overlay",
              "size": 10,
              "solidity": 0.2
             }
            },
            "type": "barpolar"
           }
          ],
          "carpet": [
           {
            "aaxis": {
             "endlinecolor": "#2a3f5f",
             "gridcolor": "#C8D4E3",
             "linecolor": "#C8D4E3",
             "minorgridcolor": "#C8D4E3",
             "startlinecolor": "#2a3f5f"
            },
            "baxis": {
             "endlinecolor": "#2a3f5f",
             "gridcolor": "#C8D4E3",
             "linecolor": "#C8D4E3",
             "minorgridcolor": "#C8D4E3",
             "startlinecolor": "#2a3f5f"
            },
            "type": "carpet"
           }
          ],
          "choropleth": [
           {
            "colorbar": {
             "outlinewidth": 0,
             "ticks": ""
            },
            "type": "choropleth"
           }
          ],
          "contour": [
           {
            "colorbar": {
             "outlinewidth": 0,
             "ticks": ""
            },
            "colorscale": [
             [
              0,
              "#0d0887"
             ],
             [
              0.1111111111111111,
              "#46039f"
             ],
             [
              0.2222222222222222,
              "#7201a8"
             ],
             [
              0.3333333333333333,
              "#9c179e"
             ],
             [
              0.4444444444444444,
              "#bd3786"
             ],
             [
              0.5555555555555556,
              "#d8576b"
             ],
             [
              0.6666666666666666,
              "#ed7953"
             ],
             [
              0.7777777777777778,
              "#fb9f3a"
             ],
             [
              0.8888888888888888,
              "#fdca26"
             ],
             [
              1,
              "#f0f921"
             ]
            ],
            "type": "contour"
           }
          ],
          "contourcarpet": [
           {
            "colorbar": {
             "outlinewidth": 0,
             "ticks": ""
            },
            "type": "contourcarpet"
           }
          ],
          "heatmap": [
           {
            "colorbar": {
             "outlinewidth": 0,
             "ticks": ""
            },
            "colorscale": [
             [
              0,
              "#0d0887"
             ],
             [
              0.1111111111111111,
              "#46039f"
             ],
             [
              0.2222222222222222,
              "#7201a8"
             ],
             [
              0.3333333333333333,
              "#9c179e"
             ],
             [
              0.4444444444444444,
              "#bd3786"
             ],
             [
              0.5555555555555556,
              "#d8576b"
             ],
             [
              0.6666666666666666,
              "#ed7953"
             ],
             [
              0.7777777777777778,
              "#fb9f3a"
             ],
             [
              0.8888888888888888,
              "#fdca26"
             ],
             [
              1,
              "#f0f921"
             ]
            ],
            "type": "heatmap"
           }
          ],
          "heatmapgl": [
           {
            "colorbar": {
             "outlinewidth": 0,
             "ticks": ""
            },
            "colorscale": [
             [
              0,
              "#0d0887"
             ],
             [
              0.1111111111111111,
              "#46039f"
             ],
             [
              0.2222222222222222,
              "#7201a8"
             ],
             [
              0.3333333333333333,
              "#9c179e"
             ],
             [
              0.4444444444444444,
              "#bd3786"
             ],
             [
              0.5555555555555556,
              "#d8576b"
             ],
             [
              0.6666666666666666,
              "#ed7953"
             ],
             [
              0.7777777777777778,
              "#fb9f3a"
             ],
             [
              0.8888888888888888,
              "#fdca26"
             ],
             [
              1,
              "#f0f921"
             ]
            ],
            "type": "heatmapgl"
           }
          ],
          "histogram": [
           {
            "marker": {
             "pattern": {
              "fillmode": "overlay",
              "size": 10,
              "solidity": 0.2
             }
            },
            "type": "histogram"
           }
          ],
          "histogram2d": [
           {
            "colorbar": {
             "outlinewidth": 0,
             "ticks": ""
            },
            "colorscale": [
             [
              0,
              "#0d0887"
             ],
             [
              0.1111111111111111,
              "#46039f"
             ],
             [
              0.2222222222222222,
              "#7201a8"
             ],
             [
              0.3333333333333333,
              "#9c179e"
             ],
             [
              0.4444444444444444,
              "#bd3786"
             ],
             [
              0.5555555555555556,
              "#d8576b"
             ],
             [
              0.6666666666666666,
              "#ed7953"
             ],
             [
              0.7777777777777778,
              "#fb9f3a"
             ],
             [
              0.8888888888888888,
              "#fdca26"
             ],
             [
              1,
              "#f0f921"
             ]
            ],
            "type": "histogram2d"
           }
          ],
          "histogram2dcontour": [
           {
            "colorbar": {
             "outlinewidth": 0,
             "ticks": ""
            },
            "colorscale": [
             [
              0,
              "#0d0887"
             ],
             [
              0.1111111111111111,
              "#46039f"
             ],
             [
              0.2222222222222222,
              "#7201a8"
             ],
             [
              0.3333333333333333,
              "#9c179e"
             ],
             [
              0.4444444444444444,
              "#bd3786"
             ],
             [
              0.5555555555555556,
              "#d8576b"
             ],
             [
              0.6666666666666666,
              "#ed7953"
             ],
             [
              0.7777777777777778,
              "#fb9f3a"
             ],
             [
              0.8888888888888888,
              "#fdca26"
             ],
             [
              1,
              "#f0f921"
             ]
            ],
            "type": "histogram2dcontour"
           }
          ],
          "mesh3d": [
           {
            "colorbar": {
             "outlinewidth": 0,
             "ticks": ""
            },
            "type": "mesh3d"
           }
          ],
          "parcoords": [
           {
            "line": {
             "colorbar": {
              "outlinewidth": 0,
              "ticks": ""
             }
            },
            "type": "parcoords"
           }
          ],
          "pie": [
           {
            "automargin": true,
            "type": "pie"
           }
          ],
          "scatter": [
           {
            "fillpattern": {
             "fillmode": "overlay",
             "size": 10,
             "solidity": 0.2
            },
            "type": "scatter"
           }
          ],
          "scatter3d": [
           {
            "line": {
             "colorbar": {
              "outlinewidth": 0,
              "ticks": ""
             }
            },
            "marker": {
             "colorbar": {
              "outlinewidth": 0,
              "ticks": ""
             }
            },
            "type": "scatter3d"
           }
          ],
          "scattercarpet": [
           {
            "marker": {
             "colorbar": {
              "outlinewidth": 0,
              "ticks": ""
             }
            },
            "type": "scattercarpet"
           }
          ],
          "scattergeo": [
           {
            "marker": {
             "colorbar": {
              "outlinewidth": 0,
              "ticks": ""
             }
            },
            "type": "scattergeo"
           }
          ],
          "scattergl": [
           {
            "marker": {
             "colorbar": {
              "outlinewidth": 0,
              "ticks": ""
             }
            },
            "type": "scattergl"
           }
          ],
          "scattermapbox": [
           {
            "marker": {
             "colorbar": {
              "outlinewidth": 0,
              "ticks": ""
             }
            },
            "type": "scattermapbox"
           }
          ],
          "scatterpolar": [
           {
            "marker": {
             "colorbar": {
              "outlinewidth": 0,
              "ticks": ""
             }
            },
            "type": "scatterpolar"
           }
          ],
          "scatterpolargl": [
           {
            "marker": {
             "colorbar": {
              "outlinewidth": 0,
              "ticks": ""
             }
            },
            "type": "scatterpolargl"
           }
          ],
          "scatterternary": [
           {
            "marker": {
             "colorbar": {
              "outlinewidth": 0,
              "ticks": ""
             }
            },
            "type": "scatterternary"
           }
          ],
          "surface": [
           {
            "colorbar": {
             "outlinewidth": 0,
             "ticks": ""
            },
            "colorscale": [
             [
              0,
              "#0d0887"
             ],
             [
              0.1111111111111111,
              "#46039f"
             ],
             [
              0.2222222222222222,
              "#7201a8"
             ],
             [
              0.3333333333333333,
              "#9c179e"
             ],
             [
              0.4444444444444444,
              "#bd3786"
             ],
             [
              0.5555555555555556,
              "#d8576b"
             ],
             [
              0.6666666666666666,
              "#ed7953"
             ],
             [
              0.7777777777777778,
              "#fb9f3a"
             ],
             [
              0.8888888888888888,
              "#fdca26"
             ],
             [
              1,
              "#f0f921"
             ]
            ],
            "type": "surface"
           }
          ],
          "table": [
           {
            "cells": {
             "fill": {
              "color": "#EBF0F8"
             },
             "line": {
              "color": "white"
             }
            },
            "header": {
             "fill": {
              "color": "#C8D4E3"
             },
             "line": {
              "color": "white"
             }
            },
            "type": "table"
           }
          ]
         },
         "layout": {
          "annotationdefaults": {
           "arrowcolor": "#2a3f5f",
           "arrowhead": 0,
           "arrowwidth": 1
          },
          "autotypenumbers": "strict",
          "coloraxis": {
           "colorbar": {
            "outlinewidth": 0,
            "ticks": ""
           }
          },
          "colorscale": {
           "diverging": [
            [
             0,
             "#8e0152"
            ],
            [
             0.1,
             "#c51b7d"
            ],
            [
             0.2,
             "#de77ae"
            ],
            [
             0.3,
             "#f1b6da"
            ],
            [
             0.4,
             "#fde0ef"
            ],
            [
             0.5,
             "#f7f7f7"
            ],
            [
             0.6,
             "#e6f5d0"
            ],
            [
             0.7,
             "#b8e186"
            ],
            [
             0.8,
             "#7fbc41"
            ],
            [
             0.9,
             "#4d9221"
            ],
            [
             1,
             "#276419"
            ]
           ],
           "sequential": [
            [
             0,
             "#0d0887"
            ],
            [
             0.1111111111111111,
             "#46039f"
            ],
            [
             0.2222222222222222,
             "#7201a8"
            ],
            [
             0.3333333333333333,
             "#9c179e"
            ],
            [
             0.4444444444444444,
             "#bd3786"
            ],
            [
             0.5555555555555556,
             "#d8576b"
            ],
            [
             0.6666666666666666,
             "#ed7953"
            ],
            [
             0.7777777777777778,
             "#fb9f3a"
            ],
            [
             0.8888888888888888,
             "#fdca26"
            ],
            [
             1,
             "#f0f921"
            ]
           ],
           "sequentialminus": [
            [
             0,
             "#0d0887"
            ],
            [
             0.1111111111111111,
             "#46039f"
            ],
            [
             0.2222222222222222,
             "#7201a8"
            ],
            [
             0.3333333333333333,
             "#9c179e"
            ],
            [
             0.4444444444444444,
             "#bd3786"
            ],
            [
             0.5555555555555556,
             "#d8576b"
            ],
            [
             0.6666666666666666,
             "#ed7953"
            ],
            [
             0.7777777777777778,
             "#fb9f3a"
            ],
            [
             0.8888888888888888,
             "#fdca26"
            ],
            [
             1,
             "#f0f921"
            ]
           ]
          },
          "colorway": [
           "#636efa",
           "#EF553B",
           "#00cc96",
           "#ab63fa",
           "#FFA15A",
           "#19d3f3",
           "#FF6692",
           "#B6E880",
           "#FF97FF",
           "#FECB52"
          ],
          "font": {
           "color": "#2a3f5f"
          },
          "geo": {
           "bgcolor": "white",
           "lakecolor": "white",
           "landcolor": "white",
           "showlakes": true,
           "showland": true,
           "subunitcolor": "#C8D4E3"
          },
          "hoverlabel": {
           "align": "left"
          },
          "hovermode": "closest",
          "mapbox": {
           "style": "light"
          },
          "paper_bgcolor": "white",
          "plot_bgcolor": "white",
          "polar": {
           "angularaxis": {
            "gridcolor": "#EBF0F8",
            "linecolor": "#EBF0F8",
            "ticks": ""
           },
           "bgcolor": "white",
           "radialaxis": {
            "gridcolor": "#EBF0F8",
            "linecolor": "#EBF0F8",
            "ticks": ""
           }
          },
          "scene": {
           "xaxis": {
            "backgroundcolor": "white",
            "gridcolor": "#DFE8F3",
            "gridwidth": 2,
            "linecolor": "#EBF0F8",
            "showbackground": true,
            "ticks": "",
            "zerolinecolor": "#EBF0F8"
           },
           "yaxis": {
            "backgroundcolor": "white",
            "gridcolor": "#DFE8F3",
            "gridwidth": 2,
            "linecolor": "#EBF0F8",
            "showbackground": true,
            "ticks": "",
            "zerolinecolor": "#EBF0F8"
           },
           "zaxis": {
            "backgroundcolor": "white",
            "gridcolor": "#DFE8F3",
            "gridwidth": 2,
            "linecolor": "#EBF0F8",
            "showbackground": true,
            "ticks": "",
            "zerolinecolor": "#EBF0F8"
           }
          },
          "shapedefaults": {
           "line": {
            "color": "#2a3f5f"
           }
          },
          "ternary": {
           "aaxis": {
            "gridcolor": "#DFE8F3",
            "linecolor": "#A2B1C6",
            "ticks": ""
           },
           "baxis": {
            "gridcolor": "#DFE8F3",
            "linecolor": "#A2B1C6",
            "ticks": ""
           },
           "bgcolor": "white",
           "caxis": {
            "gridcolor": "#DFE8F3",
            "linecolor": "#A2B1C6",
            "ticks": ""
           }
          },
          "title": {
           "x": 0.05
          },
          "xaxis": {
           "automargin": true,
           "gridcolor": "#EBF0F8",
           "linecolor": "#EBF0F8",
           "ticks": "",
           "title": {
            "standoff": 15
           },
           "zerolinecolor": "#EBF0F8",
           "zerolinewidth": 2
          },
          "yaxis": {
           "automargin": true,
           "gridcolor": "#EBF0F8",
           "linecolor": "#EBF0F8",
           "ticks": "",
           "title": {
            "standoff": 15
           },
           "zerolinecolor": "#EBF0F8",
           "zerolinewidth": 2
          }
         }
        },
        "width": 900,
        "xaxis": {
         "anchor": "y",
         "domain": [
          0,
          0.7363
         ],
         "title": {
          "text": "mag_disk"
         }
        },
        "xaxis2": {
         "anchor": "y2",
         "domain": [
          0.7413,
          1
         ],
         "matches": "x2",
         "showgrid": true,
         "showline": false,
         "showticklabels": false,
         "ticks": ""
        },
        "xaxis3": {
         "anchor": "y3",
         "domain": [
          0,
          0.7363
         ],
         "matches": "x",
         "showgrid": true,
         "showticklabels": false
        },
        "xaxis4": {
         "anchor": "y4",
         "domain": [
          0.7413,
          1
         ],
         "matches": "x2",
         "showgrid": true,
         "showline": false,
         "showticklabels": false,
         "ticks": ""
        },
        "yaxis": {
         "anchor": "x",
         "domain": [
          0,
          0.7326
         ],
         "title": {
          "text": "sn_5635"
         }
        },
        "yaxis2": {
         "anchor": "x2",
         "domain": [
          0,
          0.7326
         ],
         "matches": "y",
         "showgrid": true,
         "showticklabels": false
        },
        "yaxis3": {
         "anchor": "x3",
         "domain": [
          0.7426,
          1
         ],
         "matches": "y3",
         "showgrid": true,
         "showline": false,
         "showticklabels": false,
         "ticks": ""
        },
        "yaxis4": {
         "anchor": "x4",
         "domain": [
          0.7426,
          1
         ],
         "matches": "y3",
         "showgrid": true,
         "showline": false,
         "showticklabels": false,
         "ticks": ""
        }
       }
      }
     },
     "metadata": {},
     "output_type": "display_data"
    }
   ],
   "source": [
    "fig = px.scatter(sample_all, 'mag_disk', 'sn_5635', hover_data=['ID', 'Category'], color='sinopsis_fraction_flag',\n",
    "                 marginal_x='histogram', marginal_y='histogram', size='n_spaxels_disk',\n",
    "                 width=900, height=600)\n",
    "fig.add_hline(y=10, line_dash='dash', row=1, annotation_text=\"S/N=10\")\n",
    "fig.add_hline(y=5, line_dash='dash', row=1, annotation_text=\"S/N=5\")\n",
    "fig.add_vrect(x0=25, x1=30, \n",
    "              annotation_text=\"Excluded\", annotation_position=\"top left\",\n",
    "              fillcolor=\"green\", opacity=0.25, line_width=0, col=1)\n",
    "\n",
    "fig.show()"
   ]
  },
  {
   "cell_type": "code",
   "execution_count": 2,
   "metadata": {},
   "outputs": [],
   "source": [
    "sample['cluster'] = [id.split('_')[0] for id in sample['ID']]"
   ]
  },
  {
   "cell_type": "code",
   "execution_count": 3,
   "metadata": {},
   "outputs": [],
   "source": [
    "from astropy.coordinates import Angle\n",
    "\n",
    "def convert_do_deg(hourangle, unit):\n",
    "\n",
    "    ugly_coord = Angle(hourangle, unit=unit)\n",
    "    pretty_coord = ugly_coord.degree\n",
    "\n",
    "    return pretty_coord"
   ]
  },
  {
   "cell_type": "code",
   "execution_count": 4,
   "metadata": {},
   "outputs": [],
   "source": [
    "sample['RA_deg'] = [convert_do_deg(coord, unit='hourangle') for coord in sample['RA']]\n",
    "sample['Dec_deg'] = [convert_do_deg(coord, unit='degree') for coord in sample['Dec']]\n"
   ]
  },
  {
   "cell_type": "code",
   "execution_count": 5,
   "metadata": {},
   "outputs": [],
   "source": [
    "sample.to_csv(data_dir + 'galaxy_sample.csv', index=False)"
   ]
  }
 ],
 "metadata": {
  "kernelspec": {
   "display_name": "Python 3",
   "language": "python",
   "name": "python3"
  },
  "language_info": {
   "codemirror_mode": {
    "name": "ipython",
    "version": 3
   },
   "file_extension": ".py",
   "mimetype": "text/x-python",
   "name": "python",
   "nbconvert_exporter": "python",
   "pygments_lexer": "ipython3",
   "version": "3.11.8"
  }
 },
 "nbformat": 4,
 "nbformat_minor": 2
}
